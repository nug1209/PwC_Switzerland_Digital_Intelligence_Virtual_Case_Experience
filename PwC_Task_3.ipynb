{
  "nbformat": 4,
  "nbformat_minor": 0,
  "metadata": {
    "colab": {
      "provenance": [],
      "authorship_tag": "ABX9TyM0i2AVauKnsPUgNT0Dykos",
      "include_colab_link": true
    },
    "kernelspec": {
      "name": "python3",
      "display_name": "Python 3"
    },
    "language_info": {
      "name": "python"
    }
  },
  "cells": [
    {
      "cell_type": "markdown",
      "metadata": {
        "id": "view-in-github",
        "colab_type": "text"
      },
      "source": [
        "<a href=\"https://colab.research.google.com/github/nug1209/PwC_Switzerland_Digital_Intelligence_Virtual_Case_Experience/blob/main/PwC_Task_3.ipynb\" target=\"_parent\"><img src=\"https://colab.research.google.com/assets/colab-badge.svg\" alt=\"Open In Colab\"/></a>"
      ]
    },
    {
      "cell_type": "markdown",
      "source": [
        "In this task we deal with merchant loan data. We will create a forecast about how much will the total repayment will be after these loans are finished (after 30 months since the loans started). The formula for counting the repayment is provided. We will also create percentage values for each repayment in comparison with the origination amount."
      ],
      "metadata": {
        "id": "poHlfFCMhhim"
      }
    },
    {
      "cell_type": "markdown",
      "source": [
        "Import libraries."
      ],
      "metadata": {
        "id": "wL51ixr66D6k"
      }
    },
    {
      "cell_type": "code",
      "execution_count": 584,
      "metadata": {
        "id": "KNpzQkxYnZ6z"
      },
      "outputs": [],
      "source": [
        "import pandas as pd\n",
        "import numpy as np\n",
        "import matplotlib.pyplot as plt\n",
        "import seaborn as sns\n",
        "from google.colab import drive\n",
        "from datetime import datetime"
      ]
    },
    {
      "cell_type": "markdown",
      "source": [
        "Mount Google Drive to get the data."
      ],
      "metadata": {
        "id": "JHtiNjcD6F5g"
      }
    },
    {
      "cell_type": "code",
      "source": [
        "drive.mount('/content/drive')\n",
        "path = '/content/drive/MyDrive/Virtual Experience/PwC_Task_2_Data.csv'\n",
        "\n",
        "df = pd.read_csv(path, delimiter=';')"
      ],
      "metadata": {
        "id": "KU1fxiItn58O",
        "colab": {
          "base_uri": "https://localhost:8080/"
        },
        "outputId": "2afc235b-07a1-4f00-90e4-dbb7b4adcd5a"
      },
      "execution_count": 585,
      "outputs": [
        {
          "output_type": "stream",
          "name": "stdout",
          "text": [
            "Drive already mounted at /content/drive; to attempt to forcibly remount, call drive.mount(\"/content/drive\", force_remount=True).\n"
          ]
        }
      ]
    },
    {
      "cell_type": "markdown",
      "source": [
        "Rename columns."
      ],
      "metadata": {
        "id": "xnN7AaZ76KJL"
      }
    },
    {
      "cell_type": "code",
      "source": [
        "df = df.rename(columns={'Unnamed: 0':'origination_date', 'Origination Amount':'origination_amount'})\n",
        "df.head(1)"
      ],
      "metadata": {
        "id": "aKFCQA1OeZQT",
        "colab": {
          "base_uri": "https://localhost:8080/",
          "height": 174
        },
        "outputId": "7fbeb388-a1fc-456c-ee39-12963de3376d"
      },
      "execution_count": 586,
      "outputs": [
        {
          "output_type": "execute_result",
          "data": {
            "text/plain": [
              "  origination_date  origination_amount  31.05.2019  30.06.2019  31.07.2019  \\\n",
              "0       31.05.2019         10018746.17  1443069.08  3332200.33  1328138.75   \n",
              "\n",
              "   31.08.2019  30.09.2019  31.10.2019  30.11.2019  31.12.2019  ...  \\\n",
              "0   928085.74   736418.27   539403.31   427557.86   324459.32  ...   \n",
              "\n",
              "   31.03.2020  30.04.2020  31.05.2020  30.06.2020  31.07.2020  31.08.2020  \\\n",
              "0   116684.68    92699.67    63399.66    53265.12    37121.13     29787.1   \n",
              "\n",
              "   30.09.2020  31.10.2020  30.11.2020  31.12.2020  \n",
              "0     24524.9    18085.94    16581.01    11442.97  \n",
              "\n",
              "[1 rows x 22 columns]"
            ],
            "text/html": [
              "\n",
              "  <div id=\"df-2507de78-c680-4116-b373-14d4a9e5d9f4\">\n",
              "    <div class=\"colab-df-container\">\n",
              "      <div>\n",
              "<style scoped>\n",
              "    .dataframe tbody tr th:only-of-type {\n",
              "        vertical-align: middle;\n",
              "    }\n",
              "\n",
              "    .dataframe tbody tr th {\n",
              "        vertical-align: top;\n",
              "    }\n",
              "\n",
              "    .dataframe thead th {\n",
              "        text-align: right;\n",
              "    }\n",
              "</style>\n",
              "<table border=\"1\" class=\"dataframe\">\n",
              "  <thead>\n",
              "    <tr style=\"text-align: right;\">\n",
              "      <th></th>\n",
              "      <th>origination_date</th>\n",
              "      <th>origination_amount</th>\n",
              "      <th>31.05.2019</th>\n",
              "      <th>30.06.2019</th>\n",
              "      <th>31.07.2019</th>\n",
              "      <th>31.08.2019</th>\n",
              "      <th>30.09.2019</th>\n",
              "      <th>31.10.2019</th>\n",
              "      <th>30.11.2019</th>\n",
              "      <th>31.12.2019</th>\n",
              "      <th>...</th>\n",
              "      <th>31.03.2020</th>\n",
              "      <th>30.04.2020</th>\n",
              "      <th>31.05.2020</th>\n",
              "      <th>30.06.2020</th>\n",
              "      <th>31.07.2020</th>\n",
              "      <th>31.08.2020</th>\n",
              "      <th>30.09.2020</th>\n",
              "      <th>31.10.2020</th>\n",
              "      <th>30.11.2020</th>\n",
              "      <th>31.12.2020</th>\n",
              "    </tr>\n",
              "  </thead>\n",
              "  <tbody>\n",
              "    <tr>\n",
              "      <th>0</th>\n",
              "      <td>31.05.2019</td>\n",
              "      <td>10018746.17</td>\n",
              "      <td>1443069.08</td>\n",
              "      <td>3332200.33</td>\n",
              "      <td>1328138.75</td>\n",
              "      <td>928085.74</td>\n",
              "      <td>736418.27</td>\n",
              "      <td>539403.31</td>\n",
              "      <td>427557.86</td>\n",
              "      <td>324459.32</td>\n",
              "      <td>...</td>\n",
              "      <td>116684.68</td>\n",
              "      <td>92699.67</td>\n",
              "      <td>63399.66</td>\n",
              "      <td>53265.12</td>\n",
              "      <td>37121.13</td>\n",
              "      <td>29787.1</td>\n",
              "      <td>24524.9</td>\n",
              "      <td>18085.94</td>\n",
              "      <td>16581.01</td>\n",
              "      <td>11442.97</td>\n",
              "    </tr>\n",
              "  </tbody>\n",
              "</table>\n",
              "<p>1 rows × 22 columns</p>\n",
              "</div>\n",
              "      <button class=\"colab-df-convert\" onclick=\"convertToInteractive('df-2507de78-c680-4116-b373-14d4a9e5d9f4')\"\n",
              "              title=\"Convert this dataframe to an interactive table.\"\n",
              "              style=\"display:none;\">\n",
              "        \n",
              "  <svg xmlns=\"http://www.w3.org/2000/svg\" height=\"24px\"viewBox=\"0 0 24 24\"\n",
              "       width=\"24px\">\n",
              "    <path d=\"M0 0h24v24H0V0z\" fill=\"none\"/>\n",
              "    <path d=\"M18.56 5.44l.94 2.06.94-2.06 2.06-.94-2.06-.94-.94-2.06-.94 2.06-2.06.94zm-11 1L8.5 8.5l.94-2.06 2.06-.94-2.06-.94L8.5 2.5l-.94 2.06-2.06.94zm10 10l.94 2.06.94-2.06 2.06-.94-2.06-.94-.94-2.06-.94 2.06-2.06.94z\"/><path d=\"M17.41 7.96l-1.37-1.37c-.4-.4-.92-.59-1.43-.59-.52 0-1.04.2-1.43.59L10.3 9.45l-7.72 7.72c-.78.78-.78 2.05 0 2.83L4 21.41c.39.39.9.59 1.41.59.51 0 1.02-.2 1.41-.59l7.78-7.78 2.81-2.81c.8-.78.8-2.07 0-2.86zM5.41 20L4 18.59l7.72-7.72 1.47 1.35L5.41 20z\"/>\n",
              "  </svg>\n",
              "      </button>\n",
              "      \n",
              "  <style>\n",
              "    .colab-df-container {\n",
              "      display:flex;\n",
              "      flex-wrap:wrap;\n",
              "      gap: 12px;\n",
              "    }\n",
              "\n",
              "    .colab-df-convert {\n",
              "      background-color: #E8F0FE;\n",
              "      border: none;\n",
              "      border-radius: 50%;\n",
              "      cursor: pointer;\n",
              "      display: none;\n",
              "      fill: #1967D2;\n",
              "      height: 32px;\n",
              "      padding: 0 0 0 0;\n",
              "      width: 32px;\n",
              "    }\n",
              "\n",
              "    .colab-df-convert:hover {\n",
              "      background-color: #E2EBFA;\n",
              "      box-shadow: 0px 1px 2px rgba(60, 64, 67, 0.3), 0px 1px 3px 1px rgba(60, 64, 67, 0.15);\n",
              "      fill: #174EA6;\n",
              "    }\n",
              "\n",
              "    [theme=dark] .colab-df-convert {\n",
              "      background-color: #3B4455;\n",
              "      fill: #D2E3FC;\n",
              "    }\n",
              "\n",
              "    [theme=dark] .colab-df-convert:hover {\n",
              "      background-color: #434B5C;\n",
              "      box-shadow: 0px 1px 3px 1px rgba(0, 0, 0, 0.15);\n",
              "      filter: drop-shadow(0px 1px 2px rgba(0, 0, 0, 0.3));\n",
              "      fill: #FFFFFF;\n",
              "    }\n",
              "  </style>\n",
              "\n",
              "      <script>\n",
              "        const buttonEl =\n",
              "          document.querySelector('#df-2507de78-c680-4116-b373-14d4a9e5d9f4 button.colab-df-convert');\n",
              "        buttonEl.style.display =\n",
              "          google.colab.kernel.accessAllowed ? 'block' : 'none';\n",
              "\n",
              "        async function convertToInteractive(key) {\n",
              "          const element = document.querySelector('#df-2507de78-c680-4116-b373-14d4a9e5d9f4');\n",
              "          const dataTable =\n",
              "            await google.colab.kernel.invokeFunction('convertToInteractive',\n",
              "                                                     [key], {});\n",
              "          if (!dataTable) return;\n",
              "\n",
              "          const docLinkHtml = 'Like what you see? Visit the ' +\n",
              "            '<a target=\"_blank\" href=https://colab.research.google.com/notebooks/data_table.ipynb>data table notebook</a>'\n",
              "            + ' to learn more about interactive tables.';\n",
              "          element.innerHTML = '';\n",
              "          dataTable['output_type'] = 'display_data';\n",
              "          await google.colab.output.renderOutput(dataTable, element);\n",
              "          const docLink = document.createElement('div');\n",
              "          docLink.innerHTML = docLinkHtml;\n",
              "          element.appendChild(docLink);\n",
              "        }\n",
              "      </script>\n",
              "    </div>\n",
              "  </div>\n",
              "  "
            ]
          },
          "metadata": {},
          "execution_count": 586
        }
      ]
    },
    {
      "cell_type": "code",
      "source": [
        "df.shape"
      ],
      "metadata": {
        "colab": {
          "base_uri": "https://localhost:8080/"
        },
        "id": "kE2Jc-exo4vx",
        "outputId": "82a9c19e-93cd-45ca-cc06-380e3c4ad8e0"
      },
      "execution_count": 587,
      "outputs": [
        {
          "output_type": "execute_result",
          "data": {
            "text/plain": [
              "(20, 22)"
            ]
          },
          "metadata": {},
          "execution_count": 587
        }
      ]
    },
    {
      "cell_type": "markdown",
      "source": [
        "Preparation for melting, i.e. transform wide format table to long format."
      ],
      "metadata": {
        "id": "iCah-ViB6Ngl"
      }
    },
    {
      "cell_type": "code",
      "source": [
        "to_remove = ['origination_date', 'origination_amount']\n",
        "value_columns = [i for i in list(df.columns) if i not in to_remove]"
      ],
      "metadata": {
        "id": "RdSwySUZ5hSx"
      },
      "execution_count": 588,
      "outputs": []
    },
    {
      "cell_type": "markdown",
      "source": [
        "This was to calculate repayment percentage early in the processing, but may be it is better done later."
      ],
      "metadata": {
        "id": "NEVaq8_C54uM"
      }
    },
    {
      "cell_type": "code",
      "source": [
        "# for i in value_columns:\n",
        "#   df[i + '_actual_repayment_percent'] = 100 * df[i] / df['origination_amount']\n",
        "\n",
        "# df.columns"
      ],
      "metadata": {
        "id": "dF79L9vz5aaf"
      },
      "execution_count": 589,
      "outputs": []
    },
    {
      "cell_type": "markdown",
      "source": [
        "Convert to long format."
      ],
      "metadata": {
        "id": "Hzb4HfAN6Uuy"
      }
    },
    {
      "cell_type": "code",
      "source": [
        "df = pd.melt(df, id_vars=['origination_date', 'origination_amount'], value_vars=value_columns)\n",
        "df = df.rename(columns={'variable':'repayment_date', 'value':'repayment_amount'})"
      ],
      "metadata": {
        "id": "P05c7K_-oXvZ"
      },
      "execution_count": 590,
      "outputs": []
    },
    {
      "cell_type": "markdown",
      "source": [
        "Remove dates with no repayment."
      ],
      "metadata": {
        "id": "7XghnWED6YUu"
      }
    },
    {
      "cell_type": "code",
      "source": [
        "df = df[df['repayment_amount'] != 0.00]\n",
        "# df"
      ],
      "metadata": {
        "id": "_1YJOMWIew1T"
      },
      "execution_count": 591,
      "outputs": []
    },
    {
      "cell_type": "code",
      "source": [
        "df.info()"
      ],
      "metadata": {
        "colab": {
          "base_uri": "https://localhost:8080/"
        },
        "id": "tVN2vBGt5o-x",
        "outputId": "ad3650ba-1a06-49f4-85cb-c813e023f1d9"
      },
      "execution_count": 592,
      "outputs": [
        {
          "output_type": "stream",
          "name": "stdout",
          "text": [
            "<class 'pandas.core.frame.DataFrame'>\n",
            "Int64Index: 210 entries, 0 to 399\n",
            "Data columns (total 4 columns):\n",
            " #   Column              Non-Null Count  Dtype  \n",
            "---  ------              --------------  -----  \n",
            " 0   origination_date    210 non-null    object \n",
            " 1   origination_amount  210 non-null    float64\n",
            " 2   repayment_date      210 non-null    object \n",
            " 3   repayment_amount    210 non-null    float64\n",
            "dtypes: float64(2), object(2)\n",
            "memory usage: 8.2+ KB\n"
          ]
        }
      ]
    },
    {
      "cell_type": "markdown",
      "source": [
        "Add one row for the last entry as instructed in the task."
      ],
      "metadata": {
        "id": "jXgFBrCf6dgc"
      }
    },
    {
      "cell_type": "code",
      "source": [
        "add_row = {'origination_date':['31.12.2020'], 'origination_amount':[30482978.52], 'repayment_date':['31.01.2021'], 'repayment_amount':[8747661.94]}\n",
        "\n",
        "df = pd.concat([df, pd.DataFrame(add_row)], ignore_index=True)"
      ],
      "metadata": {
        "id": "OX56lAKH5D2S"
      },
      "execution_count": 593,
      "outputs": []
    },
    {
      "cell_type": "code",
      "source": [
        "df.info()"
      ],
      "metadata": {
        "colab": {
          "base_uri": "https://localhost:8080/"
        },
        "id": "qPRDFWNQ50IG",
        "outputId": "da5b268b-604e-4cdb-df31-21ba6f87959b"
      },
      "execution_count": 594,
      "outputs": [
        {
          "output_type": "stream",
          "name": "stdout",
          "text": [
            "<class 'pandas.core.frame.DataFrame'>\n",
            "RangeIndex: 211 entries, 0 to 210\n",
            "Data columns (total 4 columns):\n",
            " #   Column              Non-Null Count  Dtype  \n",
            "---  ------              --------------  -----  \n",
            " 0   origination_date    211 non-null    object \n",
            " 1   origination_amount  211 non-null    float64\n",
            " 2   repayment_date      211 non-null    object \n",
            " 3   repayment_amount    211 non-null    float64\n",
            "dtypes: float64(2), object(2)\n",
            "memory usage: 6.7+ KB\n"
          ]
        }
      ]
    },
    {
      "cell_type": "markdown",
      "source": [
        "Convert the date columns to date type."
      ],
      "metadata": {
        "id": "9TispajN6qTW"
      }
    },
    {
      "cell_type": "code",
      "source": [
        "df['origination_date'] = pd.to_datetime(df['origination_date'], format='%d.%m.%Y')\n",
        "df['repayment_date'] = pd.to_datetime(df['repayment_date'], format='%d.%m.%Y')\n",
        "# df.info()"
      ],
      "metadata": {
        "id": "FGl1Z0h_qKJO"
      },
      "execution_count": 595,
      "outputs": []
    },
    {
      "cell_type": "markdown",
      "source": [
        "Sort values."
      ],
      "metadata": {
        "id": "pKIipxoH6tPq"
      }
    },
    {
      "cell_type": "code",
      "source": [
        "df = df.sort_values(by=['origination_date', 'repayment_date'])\n",
        "df"
      ],
      "metadata": {
        "id": "KxF_T5EhrKBJ",
        "colab": {
          "base_uri": "https://localhost:8080/",
          "height": 423
        },
        "outputId": "4d47a80f-db3a-4e69-af1d-261a894943c3"
      },
      "execution_count": 596,
      "outputs": [
        {
          "output_type": "execute_result",
          "data": {
            "text/plain": [
              "    origination_date  origination_amount repayment_date  repayment_amount\n",
              "0         2019-05-31         10018746.17     2019-05-31        1443069.08\n",
              "1         2019-05-31         10018746.17     2019-06-30        3332200.33\n",
              "3         2019-05-31         10018746.17     2019-07-31        1328138.75\n",
              "6         2019-05-31         10018746.17     2019-08-31         928085.74\n",
              "10        2019-05-31         10018746.17     2019-09-30         736418.27\n",
              "..               ...                 ...            ...               ...\n",
              "207       2020-10-31         27699586.46     2020-12-31        1503544.68\n",
              "189       2020-11-30         29872889.68     2020-11-30        4383982.78\n",
              "208       2020-11-30         29872889.68     2020-12-31        8383025.07\n",
              "209       2020-12-31         30482978.52     2020-12-31        4373830.97\n",
              "210       2020-12-31         30482978.52     2021-01-31        8747661.94\n",
              "\n",
              "[211 rows x 4 columns]"
            ],
            "text/html": [
              "\n",
              "  <div id=\"df-a550675b-5055-433a-832e-d0b1cbaab021\">\n",
              "    <div class=\"colab-df-container\">\n",
              "      <div>\n",
              "<style scoped>\n",
              "    .dataframe tbody tr th:only-of-type {\n",
              "        vertical-align: middle;\n",
              "    }\n",
              "\n",
              "    .dataframe tbody tr th {\n",
              "        vertical-align: top;\n",
              "    }\n",
              "\n",
              "    .dataframe thead th {\n",
              "        text-align: right;\n",
              "    }\n",
              "</style>\n",
              "<table border=\"1\" class=\"dataframe\">\n",
              "  <thead>\n",
              "    <tr style=\"text-align: right;\">\n",
              "      <th></th>\n",
              "      <th>origination_date</th>\n",
              "      <th>origination_amount</th>\n",
              "      <th>repayment_date</th>\n",
              "      <th>repayment_amount</th>\n",
              "    </tr>\n",
              "  </thead>\n",
              "  <tbody>\n",
              "    <tr>\n",
              "      <th>0</th>\n",
              "      <td>2019-05-31</td>\n",
              "      <td>10018746.17</td>\n",
              "      <td>2019-05-31</td>\n",
              "      <td>1443069.08</td>\n",
              "    </tr>\n",
              "    <tr>\n",
              "      <th>1</th>\n",
              "      <td>2019-05-31</td>\n",
              "      <td>10018746.17</td>\n",
              "      <td>2019-06-30</td>\n",
              "      <td>3332200.33</td>\n",
              "    </tr>\n",
              "    <tr>\n",
              "      <th>3</th>\n",
              "      <td>2019-05-31</td>\n",
              "      <td>10018746.17</td>\n",
              "      <td>2019-07-31</td>\n",
              "      <td>1328138.75</td>\n",
              "    </tr>\n",
              "    <tr>\n",
              "      <th>6</th>\n",
              "      <td>2019-05-31</td>\n",
              "      <td>10018746.17</td>\n",
              "      <td>2019-08-31</td>\n",
              "      <td>928085.74</td>\n",
              "    </tr>\n",
              "    <tr>\n",
              "      <th>10</th>\n",
              "      <td>2019-05-31</td>\n",
              "      <td>10018746.17</td>\n",
              "      <td>2019-09-30</td>\n",
              "      <td>736418.27</td>\n",
              "    </tr>\n",
              "    <tr>\n",
              "      <th>...</th>\n",
              "      <td>...</td>\n",
              "      <td>...</td>\n",
              "      <td>...</td>\n",
              "      <td>...</td>\n",
              "    </tr>\n",
              "    <tr>\n",
              "      <th>207</th>\n",
              "      <td>2020-10-31</td>\n",
              "      <td>27699586.46</td>\n",
              "      <td>2020-12-31</td>\n",
              "      <td>1503544.68</td>\n",
              "    </tr>\n",
              "    <tr>\n",
              "      <th>189</th>\n",
              "      <td>2020-11-30</td>\n",
              "      <td>29872889.68</td>\n",
              "      <td>2020-11-30</td>\n",
              "      <td>4383982.78</td>\n",
              "    </tr>\n",
              "    <tr>\n",
              "      <th>208</th>\n",
              "      <td>2020-11-30</td>\n",
              "      <td>29872889.68</td>\n",
              "      <td>2020-12-31</td>\n",
              "      <td>8383025.07</td>\n",
              "    </tr>\n",
              "    <tr>\n",
              "      <th>209</th>\n",
              "      <td>2020-12-31</td>\n",
              "      <td>30482978.52</td>\n",
              "      <td>2020-12-31</td>\n",
              "      <td>4373830.97</td>\n",
              "    </tr>\n",
              "    <tr>\n",
              "      <th>210</th>\n",
              "      <td>2020-12-31</td>\n",
              "      <td>30482978.52</td>\n",
              "      <td>2021-01-31</td>\n",
              "      <td>8747661.94</td>\n",
              "    </tr>\n",
              "  </tbody>\n",
              "</table>\n",
              "<p>211 rows × 4 columns</p>\n",
              "</div>\n",
              "      <button class=\"colab-df-convert\" onclick=\"convertToInteractive('df-a550675b-5055-433a-832e-d0b1cbaab021')\"\n",
              "              title=\"Convert this dataframe to an interactive table.\"\n",
              "              style=\"display:none;\">\n",
              "        \n",
              "  <svg xmlns=\"http://www.w3.org/2000/svg\" height=\"24px\"viewBox=\"0 0 24 24\"\n",
              "       width=\"24px\">\n",
              "    <path d=\"M0 0h24v24H0V0z\" fill=\"none\"/>\n",
              "    <path d=\"M18.56 5.44l.94 2.06.94-2.06 2.06-.94-2.06-.94-.94-2.06-.94 2.06-2.06.94zm-11 1L8.5 8.5l.94-2.06 2.06-.94-2.06-.94L8.5 2.5l-.94 2.06-2.06.94zm10 10l.94 2.06.94-2.06 2.06-.94-2.06-.94-.94-2.06-.94 2.06-2.06.94z\"/><path d=\"M17.41 7.96l-1.37-1.37c-.4-.4-.92-.59-1.43-.59-.52 0-1.04.2-1.43.59L10.3 9.45l-7.72 7.72c-.78.78-.78 2.05 0 2.83L4 21.41c.39.39.9.59 1.41.59.51 0 1.02-.2 1.41-.59l7.78-7.78 2.81-2.81c.8-.78.8-2.07 0-2.86zM5.41 20L4 18.59l7.72-7.72 1.47 1.35L5.41 20z\"/>\n",
              "  </svg>\n",
              "      </button>\n",
              "      \n",
              "  <style>\n",
              "    .colab-df-container {\n",
              "      display:flex;\n",
              "      flex-wrap:wrap;\n",
              "      gap: 12px;\n",
              "    }\n",
              "\n",
              "    .colab-df-convert {\n",
              "      background-color: #E8F0FE;\n",
              "      border: none;\n",
              "      border-radius: 50%;\n",
              "      cursor: pointer;\n",
              "      display: none;\n",
              "      fill: #1967D2;\n",
              "      height: 32px;\n",
              "      padding: 0 0 0 0;\n",
              "      width: 32px;\n",
              "    }\n",
              "\n",
              "    .colab-df-convert:hover {\n",
              "      background-color: #E2EBFA;\n",
              "      box-shadow: 0px 1px 2px rgba(60, 64, 67, 0.3), 0px 1px 3px 1px rgba(60, 64, 67, 0.15);\n",
              "      fill: #174EA6;\n",
              "    }\n",
              "\n",
              "    [theme=dark] .colab-df-convert {\n",
              "      background-color: #3B4455;\n",
              "      fill: #D2E3FC;\n",
              "    }\n",
              "\n",
              "    [theme=dark] .colab-df-convert:hover {\n",
              "      background-color: #434B5C;\n",
              "      box-shadow: 0px 1px 3px 1px rgba(0, 0, 0, 0.15);\n",
              "      filter: drop-shadow(0px 1px 2px rgba(0, 0, 0, 0.3));\n",
              "      fill: #FFFFFF;\n",
              "    }\n",
              "  </style>\n",
              "\n",
              "      <script>\n",
              "        const buttonEl =\n",
              "          document.querySelector('#df-a550675b-5055-433a-832e-d0b1cbaab021 button.colab-df-convert');\n",
              "        buttonEl.style.display =\n",
              "          google.colab.kernel.accessAllowed ? 'block' : 'none';\n",
              "\n",
              "        async function convertToInteractive(key) {\n",
              "          const element = document.querySelector('#df-a550675b-5055-433a-832e-d0b1cbaab021');\n",
              "          const dataTable =\n",
              "            await google.colab.kernel.invokeFunction('convertToInteractive',\n",
              "                                                     [key], {});\n",
              "          if (!dataTable) return;\n",
              "\n",
              "          const docLinkHtml = 'Like what you see? Visit the ' +\n",
              "            '<a target=\"_blank\" href=https://colab.research.google.com/notebooks/data_table.ipynb>data table notebook</a>'\n",
              "            + ' to learn more about interactive tables.';\n",
              "          element.innerHTML = '';\n",
              "          dataTable['output_type'] = 'display_data';\n",
              "          await google.colab.output.renderOutput(dataTable, element);\n",
              "          const docLink = document.createElement('div');\n",
              "          docLink.innerHTML = docLinkHtml;\n",
              "          element.appendChild(docLink);\n",
              "        }\n",
              "      </script>\n",
              "    </div>\n",
              "  </div>\n",
              "  "
            ]
          },
          "metadata": {},
          "execution_count": 596
        }
      ]
    },
    {
      "cell_type": "code",
      "source": [
        "df_copy = df.copy()"
      ],
      "metadata": {
        "id": "8iplsKqU64Bk"
      },
      "execution_count": 597,
      "outputs": []
    },
    {
      "cell_type": "markdown",
      "source": [
        "Create data frame from unique values of origination date and origination amount so that it can be merged later with the repayment values."
      ],
      "metadata": {
        "id": "QTlXz3xk63PK"
      }
    },
    {
      "cell_type": "code",
      "source": [
        "df1 = df[['origination_date', 'origination_amount']].drop_duplicates().reset_index(drop=True)\n",
        "# df1"
      ],
      "metadata": {
        "id": "SEYvgl7e7NS8"
      },
      "execution_count": 598,
      "outputs": []
    },
    {
      "cell_type": "markdown",
      "source": [
        "Get the first two repayments."
      ],
      "metadata": {
        "id": "6t6Q4BjD7i3R"
      }
    },
    {
      "cell_type": "code",
      "source": [
        "two_repayments = df.groupby('origination_date')['repayment_amount'].apply(list).reset_index(name='repayment')['repayment'].apply(lambda x: x[0: 2])\n",
        "df2 = pd.DataFrame(two_repayments, columns=['repayment'])\n",
        "# df2"
      ],
      "metadata": {
        "id": "WvhmGyWgGvdU"
      },
      "execution_count": 599,
      "outputs": []
    },
    {
      "cell_type": "code",
      "source": [
        "df_agg = pd.concat([df1, df2], axis=1)\n",
        "# df_agg"
      ],
      "metadata": {
        "id": "vaRHJuD787ZG"
      },
      "execution_count": 600,
      "outputs": []
    },
    {
      "cell_type": "code",
      "source": [
        "# def repayment_percent(a, b):\n",
        "#   return [100* i / b for i in a]\n",
        "\n",
        "def repayment_part(a, b):\n",
        "  return [i / b for i in a]"
      ],
      "metadata": {
        "id": "Jcu05sIHFCNk"
      },
      "execution_count": 601,
      "outputs": []
    },
    {
      "cell_type": "code",
      "source": [
        "df_agg['repayment_part'] = df_agg.apply(lambda row: repayment_part(row['repayment'], row['origination_amount']), axis=1)\n",
        "df_agg"
      ],
      "metadata": {
        "colab": {
          "base_uri": "https://localhost:8080/",
          "height": 676
        },
        "id": "wS-Ky5z5-gbR",
        "outputId": "061548e0-0813-496b-8561-525d00aeb90a"
      },
      "execution_count": 602,
      "outputs": [
        {
          "output_type": "execute_result",
          "data": {
            "text/plain": [
              "   origination_date  origination_amount                 repayment  \\\n",
              "0        2019-05-31         10018746.17  [1443069.08, 3332200.33]   \n",
              "1        2019-06-30         10868379.04   [1392751.6, 3011884.91]   \n",
              "2        2019-07-31         10733932.61  [1537650.24, 2953335.55]   \n",
              "3        2019-08-31         12558727.02   [1617681.94, 4082016.0]   \n",
              "4        2019-09-30         14505071.44   [1992242.84, 3930445.6]   \n",
              "5        2019-10-31         15652952.20  [2289453.76, 4682354.31]   \n",
              "6        2019-11-30         15107713.30  [2162283.09, 4637701.69]   \n",
              "7        2019-12-31         17004745.04  [2402403.37, 4947764.21]   \n",
              "8        2020-01-31         16794379.95  [2502066.86, 4696910.48]   \n",
              "9        2020-02-29         19217205.82  [2833811.35, 6142911.08]   \n",
              "10       2020-03-31         21628095.29  [2843285.54, 6228477.78]   \n",
              "11       2020-04-30         22334728.88  [3332800.29, 6476251.76]   \n",
              "12       2020-05-31         22393345.39  [3575896.21, 7636995.58]   \n",
              "13       2020-06-30         24671655.23  [3746372.58, 8983764.16]   \n",
              "14       2020-07-31         25478232.23  [3470149.61, 8030091.09]   \n",
              "15       2020-08-31         25878820.95   [3510328.95, 8374134.7]   \n",
              "16       2020-09-30         25887161.41  [3976808.32, 7065477.24]   \n",
              "17       2020-10-31         27699586.46  [3667678.21, 8752706.73]   \n",
              "18       2020-11-30         29872889.68  [4383982.78, 8383025.07]   \n",
              "19       2020-12-31         30482978.52  [4373830.97, 8747661.94]   \n",
              "\n",
              "                                repayment_part  \n",
              "0   [0.14403689398989936, 0.33259654186847215]  \n",
              "1      [0.1281471316811932, 0.277123653758767]  \n",
              "2    [0.14325134094539466, 0.2751401240630669]  \n",
              "3     [0.128809387880142, 0.32503421672429983]  \n",
              "4   [0.13734801984539555, 0.27097044066678516]  \n",
              "5    [0.14626338410462916, 0.2991355400676429]  \n",
              "6   [0.14312444557708145, 0.30697575456373005]  \n",
              "7   [0.14127841166385405, 0.29096373973037826]  \n",
              "8   [0.14898238979046083, 0.27967156239072705]  \n",
              "9     [0.1474621948967605, 0.3196568292777956]  \n",
              "10   [0.1314625953823417, 0.28798087378872467]  \n",
              "11   [0.14922053936300123, 0.2899633031050252]  \n",
              "12    [0.1596856632058583, 0.3410386187054653]  \n",
              "13   [0.15184925960883736, 0.3641330132189919]  \n",
              "14   [0.13620056441411907, 0.3151745779499083]  \n",
              "15   [0.1356448563395621, 0.32359027160393106]  \n",
              "16   [0.15362087240912367, 0.2729336418194798]  \n",
              "17     [0.13240913236363167, 0.31598690986378]  \n",
              "18  [0.14675455996930525, 0.28062317237466533]  \n",
              "19    [0.1434843700437709, 0.2869687400875418]  "
            ],
            "text/html": [
              "\n",
              "  <div id=\"df-513bb126-8dd8-42f9-b9c8-0acbc84c399b\">\n",
              "    <div class=\"colab-df-container\">\n",
              "      <div>\n",
              "<style scoped>\n",
              "    .dataframe tbody tr th:only-of-type {\n",
              "        vertical-align: middle;\n",
              "    }\n",
              "\n",
              "    .dataframe tbody tr th {\n",
              "        vertical-align: top;\n",
              "    }\n",
              "\n",
              "    .dataframe thead th {\n",
              "        text-align: right;\n",
              "    }\n",
              "</style>\n",
              "<table border=\"1\" class=\"dataframe\">\n",
              "  <thead>\n",
              "    <tr style=\"text-align: right;\">\n",
              "      <th></th>\n",
              "      <th>origination_date</th>\n",
              "      <th>origination_amount</th>\n",
              "      <th>repayment</th>\n",
              "      <th>repayment_part</th>\n",
              "    </tr>\n",
              "  </thead>\n",
              "  <tbody>\n",
              "    <tr>\n",
              "      <th>0</th>\n",
              "      <td>2019-05-31</td>\n",
              "      <td>10018746.17</td>\n",
              "      <td>[1443069.08, 3332200.33]</td>\n",
              "      <td>[0.14403689398989936, 0.33259654186847215]</td>\n",
              "    </tr>\n",
              "    <tr>\n",
              "      <th>1</th>\n",
              "      <td>2019-06-30</td>\n",
              "      <td>10868379.04</td>\n",
              "      <td>[1392751.6, 3011884.91]</td>\n",
              "      <td>[0.1281471316811932, 0.277123653758767]</td>\n",
              "    </tr>\n",
              "    <tr>\n",
              "      <th>2</th>\n",
              "      <td>2019-07-31</td>\n",
              "      <td>10733932.61</td>\n",
              "      <td>[1537650.24, 2953335.55]</td>\n",
              "      <td>[0.14325134094539466, 0.2751401240630669]</td>\n",
              "    </tr>\n",
              "    <tr>\n",
              "      <th>3</th>\n",
              "      <td>2019-08-31</td>\n",
              "      <td>12558727.02</td>\n",
              "      <td>[1617681.94, 4082016.0]</td>\n",
              "      <td>[0.128809387880142, 0.32503421672429983]</td>\n",
              "    </tr>\n",
              "    <tr>\n",
              "      <th>4</th>\n",
              "      <td>2019-09-30</td>\n",
              "      <td>14505071.44</td>\n",
              "      <td>[1992242.84, 3930445.6]</td>\n",
              "      <td>[0.13734801984539555, 0.27097044066678516]</td>\n",
              "    </tr>\n",
              "    <tr>\n",
              "      <th>5</th>\n",
              "      <td>2019-10-31</td>\n",
              "      <td>15652952.20</td>\n",
              "      <td>[2289453.76, 4682354.31]</td>\n",
              "      <td>[0.14626338410462916, 0.2991355400676429]</td>\n",
              "    </tr>\n",
              "    <tr>\n",
              "      <th>6</th>\n",
              "      <td>2019-11-30</td>\n",
              "      <td>15107713.30</td>\n",
              "      <td>[2162283.09, 4637701.69]</td>\n",
              "      <td>[0.14312444557708145, 0.30697575456373005]</td>\n",
              "    </tr>\n",
              "    <tr>\n",
              "      <th>7</th>\n",
              "      <td>2019-12-31</td>\n",
              "      <td>17004745.04</td>\n",
              "      <td>[2402403.37, 4947764.21]</td>\n",
              "      <td>[0.14127841166385405, 0.29096373973037826]</td>\n",
              "    </tr>\n",
              "    <tr>\n",
              "      <th>8</th>\n",
              "      <td>2020-01-31</td>\n",
              "      <td>16794379.95</td>\n",
              "      <td>[2502066.86, 4696910.48]</td>\n",
              "      <td>[0.14898238979046083, 0.27967156239072705]</td>\n",
              "    </tr>\n",
              "    <tr>\n",
              "      <th>9</th>\n",
              "      <td>2020-02-29</td>\n",
              "      <td>19217205.82</td>\n",
              "      <td>[2833811.35, 6142911.08]</td>\n",
              "      <td>[0.1474621948967605, 0.3196568292777956]</td>\n",
              "    </tr>\n",
              "    <tr>\n",
              "      <th>10</th>\n",
              "      <td>2020-03-31</td>\n",
              "      <td>21628095.29</td>\n",
              "      <td>[2843285.54, 6228477.78]</td>\n",
              "      <td>[0.1314625953823417, 0.28798087378872467]</td>\n",
              "    </tr>\n",
              "    <tr>\n",
              "      <th>11</th>\n",
              "      <td>2020-04-30</td>\n",
              "      <td>22334728.88</td>\n",
              "      <td>[3332800.29, 6476251.76]</td>\n",
              "      <td>[0.14922053936300123, 0.2899633031050252]</td>\n",
              "    </tr>\n",
              "    <tr>\n",
              "      <th>12</th>\n",
              "      <td>2020-05-31</td>\n",
              "      <td>22393345.39</td>\n",
              "      <td>[3575896.21, 7636995.58]</td>\n",
              "      <td>[0.1596856632058583, 0.3410386187054653]</td>\n",
              "    </tr>\n",
              "    <tr>\n",
              "      <th>13</th>\n",
              "      <td>2020-06-30</td>\n",
              "      <td>24671655.23</td>\n",
              "      <td>[3746372.58, 8983764.16]</td>\n",
              "      <td>[0.15184925960883736, 0.3641330132189919]</td>\n",
              "    </tr>\n",
              "    <tr>\n",
              "      <th>14</th>\n",
              "      <td>2020-07-31</td>\n",
              "      <td>25478232.23</td>\n",
              "      <td>[3470149.61, 8030091.09]</td>\n",
              "      <td>[0.13620056441411907, 0.3151745779499083]</td>\n",
              "    </tr>\n",
              "    <tr>\n",
              "      <th>15</th>\n",
              "      <td>2020-08-31</td>\n",
              "      <td>25878820.95</td>\n",
              "      <td>[3510328.95, 8374134.7]</td>\n",
              "      <td>[0.1356448563395621, 0.32359027160393106]</td>\n",
              "    </tr>\n",
              "    <tr>\n",
              "      <th>16</th>\n",
              "      <td>2020-09-30</td>\n",
              "      <td>25887161.41</td>\n",
              "      <td>[3976808.32, 7065477.24]</td>\n",
              "      <td>[0.15362087240912367, 0.2729336418194798]</td>\n",
              "    </tr>\n",
              "    <tr>\n",
              "      <th>17</th>\n",
              "      <td>2020-10-31</td>\n",
              "      <td>27699586.46</td>\n",
              "      <td>[3667678.21, 8752706.73]</td>\n",
              "      <td>[0.13240913236363167, 0.31598690986378]</td>\n",
              "    </tr>\n",
              "    <tr>\n",
              "      <th>18</th>\n",
              "      <td>2020-11-30</td>\n",
              "      <td>29872889.68</td>\n",
              "      <td>[4383982.78, 8383025.07]</td>\n",
              "      <td>[0.14675455996930525, 0.28062317237466533]</td>\n",
              "    </tr>\n",
              "    <tr>\n",
              "      <th>19</th>\n",
              "      <td>2020-12-31</td>\n",
              "      <td>30482978.52</td>\n",
              "      <td>[4373830.97, 8747661.94]</td>\n",
              "      <td>[0.1434843700437709, 0.2869687400875418]</td>\n",
              "    </tr>\n",
              "  </tbody>\n",
              "</table>\n",
              "</div>\n",
              "      <button class=\"colab-df-convert\" onclick=\"convertToInteractive('df-513bb126-8dd8-42f9-b9c8-0acbc84c399b')\"\n",
              "              title=\"Convert this dataframe to an interactive table.\"\n",
              "              style=\"display:none;\">\n",
              "        \n",
              "  <svg xmlns=\"http://www.w3.org/2000/svg\" height=\"24px\"viewBox=\"0 0 24 24\"\n",
              "       width=\"24px\">\n",
              "    <path d=\"M0 0h24v24H0V0z\" fill=\"none\"/>\n",
              "    <path d=\"M18.56 5.44l.94 2.06.94-2.06 2.06-.94-2.06-.94-.94-2.06-.94 2.06-2.06.94zm-11 1L8.5 8.5l.94-2.06 2.06-.94-2.06-.94L8.5 2.5l-.94 2.06-2.06.94zm10 10l.94 2.06.94-2.06 2.06-.94-2.06-.94-.94-2.06-.94 2.06-2.06.94z\"/><path d=\"M17.41 7.96l-1.37-1.37c-.4-.4-.92-.59-1.43-.59-.52 0-1.04.2-1.43.59L10.3 9.45l-7.72 7.72c-.78.78-.78 2.05 0 2.83L4 21.41c.39.39.9.59 1.41.59.51 0 1.02-.2 1.41-.59l7.78-7.78 2.81-2.81c.8-.78.8-2.07 0-2.86zM5.41 20L4 18.59l7.72-7.72 1.47 1.35L5.41 20z\"/>\n",
              "  </svg>\n",
              "      </button>\n",
              "      \n",
              "  <style>\n",
              "    .colab-df-container {\n",
              "      display:flex;\n",
              "      flex-wrap:wrap;\n",
              "      gap: 12px;\n",
              "    }\n",
              "\n",
              "    .colab-df-convert {\n",
              "      background-color: #E8F0FE;\n",
              "      border: none;\n",
              "      border-radius: 50%;\n",
              "      cursor: pointer;\n",
              "      display: none;\n",
              "      fill: #1967D2;\n",
              "      height: 32px;\n",
              "      padding: 0 0 0 0;\n",
              "      width: 32px;\n",
              "    }\n",
              "\n",
              "    .colab-df-convert:hover {\n",
              "      background-color: #E2EBFA;\n",
              "      box-shadow: 0px 1px 2px rgba(60, 64, 67, 0.3), 0px 1px 3px 1px rgba(60, 64, 67, 0.15);\n",
              "      fill: #174EA6;\n",
              "    }\n",
              "\n",
              "    [theme=dark] .colab-df-convert {\n",
              "      background-color: #3B4455;\n",
              "      fill: #D2E3FC;\n",
              "    }\n",
              "\n",
              "    [theme=dark] .colab-df-convert:hover {\n",
              "      background-color: #434B5C;\n",
              "      box-shadow: 0px 1px 3px 1px rgba(0, 0, 0, 0.15);\n",
              "      filter: drop-shadow(0px 1px 2px rgba(0, 0, 0, 0.3));\n",
              "      fill: #FFFFFF;\n",
              "    }\n",
              "  </style>\n",
              "\n",
              "      <script>\n",
              "        const buttonEl =\n",
              "          document.querySelector('#df-513bb126-8dd8-42f9-b9c8-0acbc84c399b button.colab-df-convert');\n",
              "        buttonEl.style.display =\n",
              "          google.colab.kernel.accessAllowed ? 'block' : 'none';\n",
              "\n",
              "        async function convertToInteractive(key) {\n",
              "          const element = document.querySelector('#df-513bb126-8dd8-42f9-b9c8-0acbc84c399b');\n",
              "          const dataTable =\n",
              "            await google.colab.kernel.invokeFunction('convertToInteractive',\n",
              "                                                     [key], {});\n",
              "          if (!dataTable) return;\n",
              "\n",
              "          const docLinkHtml = 'Like what you see? Visit the ' +\n",
              "            '<a target=\"_blank\" href=https://colab.research.google.com/notebooks/data_table.ipynb>data table notebook</a>'\n",
              "            + ' to learn more about interactive tables.';\n",
              "          element.innerHTML = '';\n",
              "          dataTable['output_type'] = 'display_data';\n",
              "          await google.colab.output.renderOutput(dataTable, element);\n",
              "          const docLink = document.createElement('div');\n",
              "          docLink.innerHTML = docLinkHtml;\n",
              "          element.appendChild(docLink);\n",
              "        }\n",
              "      </script>\n",
              "    </div>\n",
              "  </div>\n",
              "  "
            ]
          },
          "metadata": {},
          "execution_count": 602
        }
      ]
    },
    {
      "cell_type": "code",
      "source": [
        "discount_per_month = 2.5 / 12\n",
        "remaining_part_after_discount_per_month = 100 - discount_per_month\n",
        "remaining_part_after_discount_per_month"
      ],
      "metadata": {
        "colab": {
          "base_uri": "https://localhost:8080/"
        },
        "id": "1XwZ7TdXGnhJ",
        "outputId": "8fc1dd20-66fb-4039-820f-5b6103194b2a"
      },
      "execution_count": 603,
      "outputs": [
        {
          "output_type": "execute_result",
          "data": {
            "text/plain": [
              "99.79166666666667"
            ]
          },
          "metadata": {},
          "execution_count": 603
        }
      ]
    },
    {
      "cell_type": "code",
      "source": [
        "def expected_repayment_part(p):\n",
        "  \n",
        "  for i in np.arange(3, 31):\n",
        "        \n",
        "    calc1 = sum(p[:-1])\n",
        "    \n",
        "    calc2 = 1 - calc1\n",
        "    \n",
        "    calc3 = (i - 1) / 30\n",
        "    \n",
        "    calc4 = 1 - calc2\n",
        "    \n",
        "    calc5 = 1 + (calc4 * calc2)\n",
        "    \n",
        "    calc6 = p[1] * np.log(calc5)\n",
        "    \n",
        "    pi = max(calc6, 0)\n",
        "    \n",
        "    pi = pi * remaining_part_after_discount_per_month / 100\n",
        "\n",
        "    p.append(pi)\n",
        "\n",
        "  \n",
        "  return p\n",
        "\t"
      ],
      "metadata": {
        "id": "MAZ51L6k4qTL"
      },
      "execution_count": 604,
      "outputs": []
    },
    {
      "cell_type": "code",
      "source": [
        "p = [0.14403689398989936, 0.33259654186847215]\n",
        "expected_repayment_part(p)"
      ],
      "metadata": {
        "colab": {
          "base_uri": "https://localhost:8080/"
        },
        "id": "Ngj-Jv1mU5xf",
        "outputId": "ff8d4b3c-1669-403d-f2b6-13d2c8770d17"
      },
      "execution_count": 605,
      "outputs": [
        {
          "output_type": "execute_result",
          "data": {
            "text/plain": [
              "[0.14403689398989936,\n",
              " 0.33259654186847215,\n",
              " 0.03858781898375524,\n",
              " 0.07391714902831535,\n",
              " 0.07400063142832149,\n",
              " 0.0719456679118513,\n",
              " 0.06691912142639268,\n",
              " 0.059053806453683466,\n",
              " 0.048915805175408646,\n",
              " 0.03750672726593,\n",
              " 0.02613372267253328,\n",
              " 0.01611823563685961,\n",
              " 0.008418883822298589,\n",
              " 0.00335593018489901,\n",
              " 0.000611988668876962,\n",
              " 0.0,\n",
              " 0.0,\n",
              " 0.0,\n",
              " 0.0,\n",
              " 0.0,\n",
              " 0.0,\n",
              " 0.0,\n",
              " 0.0,\n",
              " 0.0,\n",
              " 0.0,\n",
              " 0.0,\n",
              " 0.0,\n",
              " 0.0,\n",
              " 0.0,\n",
              " 0.0]"
            ]
          },
          "metadata": {},
          "execution_count": 605
        }
      ]
    },
    {
      "cell_type": "code",
      "source": [
        "sum(expected_repayment_part(p))"
      ],
      "metadata": {
        "colab": {
          "base_uri": "https://localhost:8080/"
        },
        "id": "TAR_PRhqBNXr",
        "outputId": "19f89ada-2294-4e63-dea9-2e21c3a31dc1"
      },
      "execution_count": 606,
      "outputs": [
        {
          "output_type": "execute_result",
          "data": {
            "text/plain": [
              "1.002118924517497"
            ]
          },
          "metadata": {},
          "execution_count": 606
        }
      ]
    },
    {
      "cell_type": "code",
      "source": [
        "df_agg['expected_repayment_part'] = df_agg['repayment_part'].apply(expected_repayment_part)\n",
        "df_agg['total_expected_repayment_part'] = df_agg['expected_repayment_part'].apply(sum)\n",
        "df_agg['total_expected_repayment'] = df_agg['total_expected_repayment_part'] * df_agg['origination_amount']\n",
        "df_agg['margin'] = df_agg['total_expected_repayment'] - df_agg['origination_amount']"
      ],
      "metadata": {
        "id": "B6Avv4B2_d2W"
      },
      "execution_count": 607,
      "outputs": []
    },
    {
      "cell_type": "code",
      "source": [
        "df_agg.head()"
      ],
      "metadata": {
        "colab": {
          "base_uri": "https://localhost:8080/",
          "height": 443
        },
        "id": "vMH59GrJCvwV",
        "outputId": "59d94295-c664-4bc7-83ac-80debc5a5e95"
      },
      "execution_count": 608,
      "outputs": [
        {
          "output_type": "execute_result",
          "data": {
            "text/plain": [
              "  origination_date  origination_amount                 repayment  \\\n",
              "0       2019-05-31         10018746.17  [1443069.08, 3332200.33]   \n",
              "1       2019-06-30         10868379.04   [1392751.6, 3011884.91]   \n",
              "2       2019-07-31         10733932.61  [1537650.24, 2953335.55]   \n",
              "3       2019-08-31         12558727.02   [1617681.94, 4082016.0]   \n",
              "4       2019-09-30         14505071.44   [1992242.84, 3930445.6]   \n",
              "\n",
              "                                      repayment_part  \\\n",
              "0  [0.14403689398989936, 0.33259654186847215, 0.0...   \n",
              "1  [0.1281471316811932, 0.277123653758767, 0.0292...   \n",
              "2  [0.14325134094539466, 0.2751401240630669, 0.03...   \n",
              "3  [0.128809387880142, 0.32503421672429983, 0.034...   \n",
              "4  [0.13734801984539555, 0.27097044066678516, 0.0...   \n",
              "\n",
              "                             expected_repayment_part  \\\n",
              "0  [0.14403689398989936, 0.33259654186847215, 0.0...   \n",
              "1  [0.1281471316811932, 0.277123653758767, 0.0292...   \n",
              "2  [0.14325134094539466, 0.2751401240630669, 0.03...   \n",
              "3  [0.128809387880142, 0.32503421672429983, 0.034...   \n",
              "4  [0.13734801984539555, 0.27097044066678516, 0.0...   \n",
              "\n",
              "   total_expected_repayment_part  total_expected_repayment        margin  \n",
              "0                       1.002119              1.003998e+07  21228.966894  \n",
              "1                       1.000050              1.086892e+07    540.448804  \n",
              "2                       1.000035              1.073430e+07    370.607450  \n",
              "3                       1.001604              1.257887e+07  20147.521865  \n",
              "4                       1.000017              1.450531e+07    241.418372  "
            ],
            "text/html": [
              "\n",
              "  <div id=\"df-34e9a5e3-596d-4d83-9a39-08b4b32b2e8d\">\n",
              "    <div class=\"colab-df-container\">\n",
              "      <div>\n",
              "<style scoped>\n",
              "    .dataframe tbody tr th:only-of-type {\n",
              "        vertical-align: middle;\n",
              "    }\n",
              "\n",
              "    .dataframe tbody tr th {\n",
              "        vertical-align: top;\n",
              "    }\n",
              "\n",
              "    .dataframe thead th {\n",
              "        text-align: right;\n",
              "    }\n",
              "</style>\n",
              "<table border=\"1\" class=\"dataframe\">\n",
              "  <thead>\n",
              "    <tr style=\"text-align: right;\">\n",
              "      <th></th>\n",
              "      <th>origination_date</th>\n",
              "      <th>origination_amount</th>\n",
              "      <th>repayment</th>\n",
              "      <th>repayment_part</th>\n",
              "      <th>expected_repayment_part</th>\n",
              "      <th>total_expected_repayment_part</th>\n",
              "      <th>total_expected_repayment</th>\n",
              "      <th>margin</th>\n",
              "    </tr>\n",
              "  </thead>\n",
              "  <tbody>\n",
              "    <tr>\n",
              "      <th>0</th>\n",
              "      <td>2019-05-31</td>\n",
              "      <td>10018746.17</td>\n",
              "      <td>[1443069.08, 3332200.33]</td>\n",
              "      <td>[0.14403689398989936, 0.33259654186847215, 0.0...</td>\n",
              "      <td>[0.14403689398989936, 0.33259654186847215, 0.0...</td>\n",
              "      <td>1.002119</td>\n",
              "      <td>1.003998e+07</td>\n",
              "      <td>21228.966894</td>\n",
              "    </tr>\n",
              "    <tr>\n",
              "      <th>1</th>\n",
              "      <td>2019-06-30</td>\n",
              "      <td>10868379.04</td>\n",
              "      <td>[1392751.6, 3011884.91]</td>\n",
              "      <td>[0.1281471316811932, 0.277123653758767, 0.0292...</td>\n",
              "      <td>[0.1281471316811932, 0.277123653758767, 0.0292...</td>\n",
              "      <td>1.000050</td>\n",
              "      <td>1.086892e+07</td>\n",
              "      <td>540.448804</td>\n",
              "    </tr>\n",
              "    <tr>\n",
              "      <th>2</th>\n",
              "      <td>2019-07-31</td>\n",
              "      <td>10733932.61</td>\n",
              "      <td>[1537650.24, 2953335.55]</td>\n",
              "      <td>[0.14325134094539466, 0.2751401240630669, 0.03...</td>\n",
              "      <td>[0.14325134094539466, 0.2751401240630669, 0.03...</td>\n",
              "      <td>1.000035</td>\n",
              "      <td>1.073430e+07</td>\n",
              "      <td>370.607450</td>\n",
              "    </tr>\n",
              "    <tr>\n",
              "      <th>3</th>\n",
              "      <td>2019-08-31</td>\n",
              "      <td>12558727.02</td>\n",
              "      <td>[1617681.94, 4082016.0]</td>\n",
              "      <td>[0.128809387880142, 0.32503421672429983, 0.034...</td>\n",
              "      <td>[0.128809387880142, 0.32503421672429983, 0.034...</td>\n",
              "      <td>1.001604</td>\n",
              "      <td>1.257887e+07</td>\n",
              "      <td>20147.521865</td>\n",
              "    </tr>\n",
              "    <tr>\n",
              "      <th>4</th>\n",
              "      <td>2019-09-30</td>\n",
              "      <td>14505071.44</td>\n",
              "      <td>[1992242.84, 3930445.6]</td>\n",
              "      <td>[0.13734801984539555, 0.27097044066678516, 0.0...</td>\n",
              "      <td>[0.13734801984539555, 0.27097044066678516, 0.0...</td>\n",
              "      <td>1.000017</td>\n",
              "      <td>1.450531e+07</td>\n",
              "      <td>241.418372</td>\n",
              "    </tr>\n",
              "  </tbody>\n",
              "</table>\n",
              "</div>\n",
              "      <button class=\"colab-df-convert\" onclick=\"convertToInteractive('df-34e9a5e3-596d-4d83-9a39-08b4b32b2e8d')\"\n",
              "              title=\"Convert this dataframe to an interactive table.\"\n",
              "              style=\"display:none;\">\n",
              "        \n",
              "  <svg xmlns=\"http://www.w3.org/2000/svg\" height=\"24px\"viewBox=\"0 0 24 24\"\n",
              "       width=\"24px\">\n",
              "    <path d=\"M0 0h24v24H0V0z\" fill=\"none\"/>\n",
              "    <path d=\"M18.56 5.44l.94 2.06.94-2.06 2.06-.94-2.06-.94-.94-2.06-.94 2.06-2.06.94zm-11 1L8.5 8.5l.94-2.06 2.06-.94-2.06-.94L8.5 2.5l-.94 2.06-2.06.94zm10 10l.94 2.06.94-2.06 2.06-.94-2.06-.94-.94-2.06-.94 2.06-2.06.94z\"/><path d=\"M17.41 7.96l-1.37-1.37c-.4-.4-.92-.59-1.43-.59-.52 0-1.04.2-1.43.59L10.3 9.45l-7.72 7.72c-.78.78-.78 2.05 0 2.83L4 21.41c.39.39.9.59 1.41.59.51 0 1.02-.2 1.41-.59l7.78-7.78 2.81-2.81c.8-.78.8-2.07 0-2.86zM5.41 20L4 18.59l7.72-7.72 1.47 1.35L5.41 20z\"/>\n",
              "  </svg>\n",
              "      </button>\n",
              "      \n",
              "  <style>\n",
              "    .colab-df-container {\n",
              "      display:flex;\n",
              "      flex-wrap:wrap;\n",
              "      gap: 12px;\n",
              "    }\n",
              "\n",
              "    .colab-df-convert {\n",
              "      background-color: #E8F0FE;\n",
              "      border: none;\n",
              "      border-radius: 50%;\n",
              "      cursor: pointer;\n",
              "      display: none;\n",
              "      fill: #1967D2;\n",
              "      height: 32px;\n",
              "      padding: 0 0 0 0;\n",
              "      width: 32px;\n",
              "    }\n",
              "\n",
              "    .colab-df-convert:hover {\n",
              "      background-color: #E2EBFA;\n",
              "      box-shadow: 0px 1px 2px rgba(60, 64, 67, 0.3), 0px 1px 3px 1px rgba(60, 64, 67, 0.15);\n",
              "      fill: #174EA6;\n",
              "    }\n",
              "\n",
              "    [theme=dark] .colab-df-convert {\n",
              "      background-color: #3B4455;\n",
              "      fill: #D2E3FC;\n",
              "    }\n",
              "\n",
              "    [theme=dark] .colab-df-convert:hover {\n",
              "      background-color: #434B5C;\n",
              "      box-shadow: 0px 1px 3px 1px rgba(0, 0, 0, 0.15);\n",
              "      filter: drop-shadow(0px 1px 2px rgba(0, 0, 0, 0.3));\n",
              "      fill: #FFFFFF;\n",
              "    }\n",
              "  </style>\n",
              "\n",
              "      <script>\n",
              "        const buttonEl =\n",
              "          document.querySelector('#df-34e9a5e3-596d-4d83-9a39-08b4b32b2e8d button.colab-df-convert');\n",
              "        buttonEl.style.display =\n",
              "          google.colab.kernel.accessAllowed ? 'block' : 'none';\n",
              "\n",
              "        async function convertToInteractive(key) {\n",
              "          const element = document.querySelector('#df-34e9a5e3-596d-4d83-9a39-08b4b32b2e8d');\n",
              "          const dataTable =\n",
              "            await google.colab.kernel.invokeFunction('convertToInteractive',\n",
              "                                                     [key], {});\n",
              "          if (!dataTable) return;\n",
              "\n",
              "          const docLinkHtml = 'Like what you see? Visit the ' +\n",
              "            '<a target=\"_blank\" href=https://colab.research.google.com/notebooks/data_table.ipynb>data table notebook</a>'\n",
              "            + ' to learn more about interactive tables.';\n",
              "          element.innerHTML = '';\n",
              "          dataTable['output_type'] = 'display_data';\n",
              "          await google.colab.output.renderOutput(dataTable, element);\n",
              "          const docLink = document.createElement('div');\n",
              "          docLink.innerHTML = docLinkHtml;\n",
              "          element.appendChild(docLink);\n",
              "        }\n",
              "      </script>\n",
              "    </div>\n",
              "  </div>\n",
              "  "
            ]
          },
          "metadata": {},
          "execution_count": 608
        }
      ]
    },
    {
      "cell_type": "code",
      "source": [
        "df_agg['total_expected_repayment'].sum()"
      ],
      "metadata": {
        "colab": {
          "base_uri": "https://localhost:8080/"
        },
        "id": "l20AW90BIMgk",
        "outputId": "730bab6f-565d-4d87-e913-104c3a77df55"
      },
      "execution_count": 609,
      "outputs": [
        {
          "output_type": "execute_result",
          "data": {
            "text/plain": [
              "399171091.11928964"
            ]
          },
          "metadata": {},
          "execution_count": 609
        }
      ]
    },
    {
      "cell_type": "markdown",
      "source": [
        "According to the instructions, the result should be close to 84993122.67. So there seems to be something wrong. I'll check."
      ],
      "metadata": {
        "id": "w4dLyfZqIf1e"
      }
    },
    {
      "cell_type": "code",
      "source": [
        "# pd.set_option('display.float_format', lambda x: '%.5f' % x)\n",
        "# pd.reset_option('^display.', silent=True)"
      ],
      "metadata": {
        "id": "3wKQHI2p9A_M"
      },
      "execution_count": 610,
      "outputs": []
    },
    {
      "cell_type": "markdown",
      "source": [
        "I found possible error. The instruction was to get number of cashflow forecast for months after 2020. Meanwhile my calculation was for cashflow for the whole timeline."
      ],
      "metadata": {
        "id": "wDw2KmrFaiZ-"
      }
    },
    {
      "cell_type": "code",
      "source": [
        "df_agg2 = df_agg[['origination_date', 'origination_amount', 'expected_repayment_part']]\n",
        "df_agg2.head()"
      ],
      "metadata": {
        "colab": {
          "base_uri": "https://localhost:8080/",
          "height": 206
        },
        "id": "8XA17Jtzacdz",
        "outputId": "0537f9d9-0cb7-4dc7-f8e5-e5b4c092d3e1"
      },
      "execution_count": 611,
      "outputs": [
        {
          "output_type": "execute_result",
          "data": {
            "text/plain": [
              "  origination_date  origination_amount  \\\n",
              "0       2019-05-31         10018746.17   \n",
              "1       2019-06-30         10868379.04   \n",
              "2       2019-07-31         10733932.61   \n",
              "3       2019-08-31         12558727.02   \n",
              "4       2019-09-30         14505071.44   \n",
              "\n",
              "                             expected_repayment_part  \n",
              "0  [0.14403689398989936, 0.33259654186847215, 0.0...  \n",
              "1  [0.1281471316811932, 0.277123653758767, 0.0292...  \n",
              "2  [0.14325134094539466, 0.2751401240630669, 0.03...  \n",
              "3  [0.128809387880142, 0.32503421672429983, 0.034...  \n",
              "4  [0.13734801984539555, 0.27097044066678516, 0.0...  "
            ],
            "text/html": [
              "\n",
              "  <div id=\"df-83e2efdb-4711-4ebd-9962-4ad22832896d\">\n",
              "    <div class=\"colab-df-container\">\n",
              "      <div>\n",
              "<style scoped>\n",
              "    .dataframe tbody tr th:only-of-type {\n",
              "        vertical-align: middle;\n",
              "    }\n",
              "\n",
              "    .dataframe tbody tr th {\n",
              "        vertical-align: top;\n",
              "    }\n",
              "\n",
              "    .dataframe thead th {\n",
              "        text-align: right;\n",
              "    }\n",
              "</style>\n",
              "<table border=\"1\" class=\"dataframe\">\n",
              "  <thead>\n",
              "    <tr style=\"text-align: right;\">\n",
              "      <th></th>\n",
              "      <th>origination_date</th>\n",
              "      <th>origination_amount</th>\n",
              "      <th>expected_repayment_part</th>\n",
              "    </tr>\n",
              "  </thead>\n",
              "  <tbody>\n",
              "    <tr>\n",
              "      <th>0</th>\n",
              "      <td>2019-05-31</td>\n",
              "      <td>10018746.17</td>\n",
              "      <td>[0.14403689398989936, 0.33259654186847215, 0.0...</td>\n",
              "    </tr>\n",
              "    <tr>\n",
              "      <th>1</th>\n",
              "      <td>2019-06-30</td>\n",
              "      <td>10868379.04</td>\n",
              "      <td>[0.1281471316811932, 0.277123653758767, 0.0292...</td>\n",
              "    </tr>\n",
              "    <tr>\n",
              "      <th>2</th>\n",
              "      <td>2019-07-31</td>\n",
              "      <td>10733932.61</td>\n",
              "      <td>[0.14325134094539466, 0.2751401240630669, 0.03...</td>\n",
              "    </tr>\n",
              "    <tr>\n",
              "      <th>3</th>\n",
              "      <td>2019-08-31</td>\n",
              "      <td>12558727.02</td>\n",
              "      <td>[0.128809387880142, 0.32503421672429983, 0.034...</td>\n",
              "    </tr>\n",
              "    <tr>\n",
              "      <th>4</th>\n",
              "      <td>2019-09-30</td>\n",
              "      <td>14505071.44</td>\n",
              "      <td>[0.13734801984539555, 0.27097044066678516, 0.0...</td>\n",
              "    </tr>\n",
              "  </tbody>\n",
              "</table>\n",
              "</div>\n",
              "      <button class=\"colab-df-convert\" onclick=\"convertToInteractive('df-83e2efdb-4711-4ebd-9962-4ad22832896d')\"\n",
              "              title=\"Convert this dataframe to an interactive table.\"\n",
              "              style=\"display:none;\">\n",
              "        \n",
              "  <svg xmlns=\"http://www.w3.org/2000/svg\" height=\"24px\"viewBox=\"0 0 24 24\"\n",
              "       width=\"24px\">\n",
              "    <path d=\"M0 0h24v24H0V0z\" fill=\"none\"/>\n",
              "    <path d=\"M18.56 5.44l.94 2.06.94-2.06 2.06-.94-2.06-.94-.94-2.06-.94 2.06-2.06.94zm-11 1L8.5 8.5l.94-2.06 2.06-.94-2.06-.94L8.5 2.5l-.94 2.06-2.06.94zm10 10l.94 2.06.94-2.06 2.06-.94-2.06-.94-.94-2.06-.94 2.06-2.06.94z\"/><path d=\"M17.41 7.96l-1.37-1.37c-.4-.4-.92-.59-1.43-.59-.52 0-1.04.2-1.43.59L10.3 9.45l-7.72 7.72c-.78.78-.78 2.05 0 2.83L4 21.41c.39.39.9.59 1.41.59.51 0 1.02-.2 1.41-.59l7.78-7.78 2.81-2.81c.8-.78.8-2.07 0-2.86zM5.41 20L4 18.59l7.72-7.72 1.47 1.35L5.41 20z\"/>\n",
              "  </svg>\n",
              "      </button>\n",
              "      \n",
              "  <style>\n",
              "    .colab-df-container {\n",
              "      display:flex;\n",
              "      flex-wrap:wrap;\n",
              "      gap: 12px;\n",
              "    }\n",
              "\n",
              "    .colab-df-convert {\n",
              "      background-color: #E8F0FE;\n",
              "      border: none;\n",
              "      border-radius: 50%;\n",
              "      cursor: pointer;\n",
              "      display: none;\n",
              "      fill: #1967D2;\n",
              "      height: 32px;\n",
              "      padding: 0 0 0 0;\n",
              "      width: 32px;\n",
              "    }\n",
              "\n",
              "    .colab-df-convert:hover {\n",
              "      background-color: #E2EBFA;\n",
              "      box-shadow: 0px 1px 2px rgba(60, 64, 67, 0.3), 0px 1px 3px 1px rgba(60, 64, 67, 0.15);\n",
              "      fill: #174EA6;\n",
              "    }\n",
              "\n",
              "    [theme=dark] .colab-df-convert {\n",
              "      background-color: #3B4455;\n",
              "      fill: #D2E3FC;\n",
              "    }\n",
              "\n",
              "    [theme=dark] .colab-df-convert:hover {\n",
              "      background-color: #434B5C;\n",
              "      box-shadow: 0px 1px 3px 1px rgba(0, 0, 0, 0.15);\n",
              "      filter: drop-shadow(0px 1px 2px rgba(0, 0, 0, 0.3));\n",
              "      fill: #FFFFFF;\n",
              "    }\n",
              "  </style>\n",
              "\n",
              "      <script>\n",
              "        const buttonEl =\n",
              "          document.querySelector('#df-83e2efdb-4711-4ebd-9962-4ad22832896d button.colab-df-convert');\n",
              "        buttonEl.style.display =\n",
              "          google.colab.kernel.accessAllowed ? 'block' : 'none';\n",
              "\n",
              "        async function convertToInteractive(key) {\n",
              "          const element = document.querySelector('#df-83e2efdb-4711-4ebd-9962-4ad22832896d');\n",
              "          const dataTable =\n",
              "            await google.colab.kernel.invokeFunction('convertToInteractive',\n",
              "                                                     [key], {});\n",
              "          if (!dataTable) return;\n",
              "\n",
              "          const docLinkHtml = 'Like what you see? Visit the ' +\n",
              "            '<a target=\"_blank\" href=https://colab.research.google.com/notebooks/data_table.ipynb>data table notebook</a>'\n",
              "            + ' to learn more about interactive tables.';\n",
              "          element.innerHTML = '';\n",
              "          dataTable['output_type'] = 'display_data';\n",
              "          await google.colab.output.renderOutput(dataTable, element);\n",
              "          const docLink = document.createElement('div');\n",
              "          docLink.innerHTML = docLinkHtml;\n",
              "          element.appendChild(docLink);\n",
              "        }\n",
              "      </script>\n",
              "    </div>\n",
              "  </div>\n",
              "  "
            ]
          },
          "metadata": {},
          "execution_count": 611
        }
      ]
    },
    {
      "cell_type": "code",
      "source": [
        "len(df_agg2['expected_repayment_part'][10])"
      ],
      "metadata": {
        "colab": {
          "base_uri": "https://localhost:8080/"
        },
        "id": "Uq7rWnJCbaQd",
        "outputId": "b482240e-971e-4cc4-a92d-5182719d6379"
      },
      "execution_count": 612,
      "outputs": [
        {
          "output_type": "execute_result",
          "data": {
            "text/plain": [
              "30"
            ]
          },
          "metadata": {},
          "execution_count": 612
        }
      ]
    },
    {
      "cell_type": "markdown",
      "source": [
        "Because the actualized repayment is already 20 months. So we will just clip the first 20 months of forecast. And then we sum the rest."
      ],
      "metadata": {
        "id": "UZO-Jrg5b64b"
      }
    },
    {
      "cell_type": "code",
      "source": [
        "# two_repayments = df.groupby('origination_date')['repayment_amount'].apply(list).reset_index(name='repayment')['repayment'].apply(lambda x: x[0: 2])\n",
        "df_agg2['expected_repayment_part_to_forecast'] = df_agg2['expected_repayment_part'].apply(lambda x: list(x[20:]))"
      ],
      "metadata": {
        "colab": {
          "base_uri": "https://localhost:8080/"
        },
        "id": "6z7qPHgvbsUt",
        "outputId": "44576a57-db4a-4da0-b918-76d8c09c8e6e"
      },
      "execution_count": 613,
      "outputs": [
        {
          "output_type": "stream",
          "name": "stderr",
          "text": [
            "<ipython-input-613-4ba1820f8c4c>:2: SettingWithCopyWarning: \n",
            "A value is trying to be set on a copy of a slice from a DataFrame.\n",
            "Try using .loc[row_indexer,col_indexer] = value instead\n",
            "\n",
            "See the caveats in the documentation: https://pandas.pydata.org/pandas-docs/stable/user_guide/indexing.html#returning-a-view-versus-a-copy\n",
            "  df_agg2['expected_repayment_part_to_forecast'] = df_agg2['expected_repayment_part'].apply(lambda x: list(x[20:]))\n"
          ]
        }
      ]
    },
    {
      "cell_type": "code",
      "source": [
        "len(df_agg2['expected_repayment_part_to_forecast'][2])"
      ],
      "metadata": {
        "colab": {
          "base_uri": "https://localhost:8080/"
        },
        "id": "007dvZSKfzdP",
        "outputId": "dc548460-c217-4e76-8e3e-3d0cbfbe99b3"
      },
      "execution_count": 615,
      "outputs": [
        {
          "output_type": "execute_result",
          "data": {
            "text/plain": [
              "10"
            ]
          },
          "metadata": {},
          "execution_count": 615
        }
      ]
    },
    {
      "cell_type": "code",
      "source": [
        "df_agg2 = df_agg2.drop(columns=['expected_repayment_part'])\n",
        "df_agg2.head()"
      ],
      "metadata": {
        "colab": {
          "base_uri": "https://localhost:8080/",
          "height": 206
        },
        "id": "JYDF_DtWgBqB",
        "outputId": "ed7b7c97-3fc2-4837-d53c-9e5bc150e71f"
      },
      "execution_count": 617,
      "outputs": [
        {
          "output_type": "execute_result",
          "data": {
            "text/plain": [
              "  origination_date  origination_amount  \\\n",
              "0       2019-05-31         10018746.17   \n",
              "1       2019-06-30         10868379.04   \n",
              "2       2019-07-31         10733932.61   \n",
              "3       2019-08-31         12558727.02   \n",
              "4       2019-09-30         14505071.44   \n",
              "\n",
              "                 expected_repayment_part_to_forecast  \n",
              "0  [0.0, 0.0, 0.0, 0.0, 0.0, 0.0, 0.0, 0.0, 0.0, ...  \n",
              "1  [0.00035375557378911494, 0.0001274502637119302...  \n",
              "2  [0.0003363070416652008, 0.000127581610524241, ...  \n",
              "3  [0.0, 0.0, 0.0, 0.0, 0.0, 0.0, 0.0, 0.0, 0.0, ...  \n",
              "4  [0.0005597463310640909, 0.00025435046008442735...  "
            ],
            "text/html": [
              "\n",
              "  <div id=\"df-7cc925df-3dee-4a64-8e1c-63d76e91795d\">\n",
              "    <div class=\"colab-df-container\">\n",
              "      <div>\n",
              "<style scoped>\n",
              "    .dataframe tbody tr th:only-of-type {\n",
              "        vertical-align: middle;\n",
              "    }\n",
              "\n",
              "    .dataframe tbody tr th {\n",
              "        vertical-align: top;\n",
              "    }\n",
              "\n",
              "    .dataframe thead th {\n",
              "        text-align: right;\n",
              "    }\n",
              "</style>\n",
              "<table border=\"1\" class=\"dataframe\">\n",
              "  <thead>\n",
              "    <tr style=\"text-align: right;\">\n",
              "      <th></th>\n",
              "      <th>origination_date</th>\n",
              "      <th>origination_amount</th>\n",
              "      <th>expected_repayment_part_to_forecast</th>\n",
              "    </tr>\n",
              "  </thead>\n",
              "  <tbody>\n",
              "    <tr>\n",
              "      <th>0</th>\n",
              "      <td>2019-05-31</td>\n",
              "      <td>10018746.17</td>\n",
              "      <td>[0.0, 0.0, 0.0, 0.0, 0.0, 0.0, 0.0, 0.0, 0.0, ...</td>\n",
              "    </tr>\n",
              "    <tr>\n",
              "      <th>1</th>\n",
              "      <td>2019-06-30</td>\n",
              "      <td>10868379.04</td>\n",
              "      <td>[0.00035375557378911494, 0.0001274502637119302...</td>\n",
              "    </tr>\n",
              "    <tr>\n",
              "      <th>2</th>\n",
              "      <td>2019-07-31</td>\n",
              "      <td>10733932.61</td>\n",
              "      <td>[0.0003363070416652008, 0.000127581610524241, ...</td>\n",
              "    </tr>\n",
              "    <tr>\n",
              "      <th>3</th>\n",
              "      <td>2019-08-31</td>\n",
              "      <td>12558727.02</td>\n",
              "      <td>[0.0, 0.0, 0.0, 0.0, 0.0, 0.0, 0.0, 0.0, 0.0, ...</td>\n",
              "    </tr>\n",
              "    <tr>\n",
              "      <th>4</th>\n",
              "      <td>2019-09-30</td>\n",
              "      <td>14505071.44</td>\n",
              "      <td>[0.0005597463310640909, 0.00025435046008442735...</td>\n",
              "    </tr>\n",
              "  </tbody>\n",
              "</table>\n",
              "</div>\n",
              "      <button class=\"colab-df-convert\" onclick=\"convertToInteractive('df-7cc925df-3dee-4a64-8e1c-63d76e91795d')\"\n",
              "              title=\"Convert this dataframe to an interactive table.\"\n",
              "              style=\"display:none;\">\n",
              "        \n",
              "  <svg xmlns=\"http://www.w3.org/2000/svg\" height=\"24px\"viewBox=\"0 0 24 24\"\n",
              "       width=\"24px\">\n",
              "    <path d=\"M0 0h24v24H0V0z\" fill=\"none\"/>\n",
              "    <path d=\"M18.56 5.44l.94 2.06.94-2.06 2.06-.94-2.06-.94-.94-2.06-.94 2.06-2.06.94zm-11 1L8.5 8.5l.94-2.06 2.06-.94-2.06-.94L8.5 2.5l-.94 2.06-2.06.94zm10 10l.94 2.06.94-2.06 2.06-.94-2.06-.94-.94-2.06-.94 2.06-2.06.94z\"/><path d=\"M17.41 7.96l-1.37-1.37c-.4-.4-.92-.59-1.43-.59-.52 0-1.04.2-1.43.59L10.3 9.45l-7.72 7.72c-.78.78-.78 2.05 0 2.83L4 21.41c.39.39.9.59 1.41.59.51 0 1.02-.2 1.41-.59l7.78-7.78 2.81-2.81c.8-.78.8-2.07 0-2.86zM5.41 20L4 18.59l7.72-7.72 1.47 1.35L5.41 20z\"/>\n",
              "  </svg>\n",
              "      </button>\n",
              "      \n",
              "  <style>\n",
              "    .colab-df-container {\n",
              "      display:flex;\n",
              "      flex-wrap:wrap;\n",
              "      gap: 12px;\n",
              "    }\n",
              "\n",
              "    .colab-df-convert {\n",
              "      background-color: #E8F0FE;\n",
              "      border: none;\n",
              "      border-radius: 50%;\n",
              "      cursor: pointer;\n",
              "      display: none;\n",
              "      fill: #1967D2;\n",
              "      height: 32px;\n",
              "      padding: 0 0 0 0;\n",
              "      width: 32px;\n",
              "    }\n",
              "\n",
              "    .colab-df-convert:hover {\n",
              "      background-color: #E2EBFA;\n",
              "      box-shadow: 0px 1px 2px rgba(60, 64, 67, 0.3), 0px 1px 3px 1px rgba(60, 64, 67, 0.15);\n",
              "      fill: #174EA6;\n",
              "    }\n",
              "\n",
              "    [theme=dark] .colab-df-convert {\n",
              "      background-color: #3B4455;\n",
              "      fill: #D2E3FC;\n",
              "    }\n",
              "\n",
              "    [theme=dark] .colab-df-convert:hover {\n",
              "      background-color: #434B5C;\n",
              "      box-shadow: 0px 1px 3px 1px rgba(0, 0, 0, 0.15);\n",
              "      filter: drop-shadow(0px 1px 2px rgba(0, 0, 0, 0.3));\n",
              "      fill: #FFFFFF;\n",
              "    }\n",
              "  </style>\n",
              "\n",
              "      <script>\n",
              "        const buttonEl =\n",
              "          document.querySelector('#df-7cc925df-3dee-4a64-8e1c-63d76e91795d button.colab-df-convert');\n",
              "        buttonEl.style.display =\n",
              "          google.colab.kernel.accessAllowed ? 'block' : 'none';\n",
              "\n",
              "        async function convertToInteractive(key) {\n",
              "          const element = document.querySelector('#df-7cc925df-3dee-4a64-8e1c-63d76e91795d');\n",
              "          const dataTable =\n",
              "            await google.colab.kernel.invokeFunction('convertToInteractive',\n",
              "                                                     [key], {});\n",
              "          if (!dataTable) return;\n",
              "\n",
              "          const docLinkHtml = 'Like what you see? Visit the ' +\n",
              "            '<a target=\"_blank\" href=https://colab.research.google.com/notebooks/data_table.ipynb>data table notebook</a>'\n",
              "            + ' to learn more about interactive tables.';\n",
              "          element.innerHTML = '';\n",
              "          dataTable['output_type'] = 'display_data';\n",
              "          await google.colab.output.renderOutput(dataTable, element);\n",
              "          const docLink = document.createElement('div');\n",
              "          docLink.innerHTML = docLinkHtml;\n",
              "          element.appendChild(docLink);\n",
              "        }\n",
              "      </script>\n",
              "    </div>\n",
              "  </div>\n",
              "  "
            ]
          },
          "metadata": {},
          "execution_count": 617
        }
      ]
    },
    {
      "cell_type": "code",
      "source": [
        "df_agg2['total_expected_repayment_part_to_forecast'] = df_agg2['expected_repayment_part_to_forecast'].apply(sum)\n",
        "df_agg2['total_expected_repayment_to_forecast'] = df_agg2['total_expected_repayment_part_to_forecast'] * df_agg2['origination_amount']\n",
        "df_agg2.head()\n"
      ],
      "metadata": {
        "colab": {
          "base_uri": "https://localhost:8080/",
          "height": 322
        },
        "id": "iy1I7nklgqwG",
        "outputId": "f459ab6c-9aad-4007-a556-7f7ff3b1ee0d"
      },
      "execution_count": 618,
      "outputs": [
        {
          "output_type": "execute_result",
          "data": {
            "text/plain": [
              "  origination_date  origination_amount  \\\n",
              "0       2019-05-31         10018746.17   \n",
              "1       2019-06-30         10868379.04   \n",
              "2       2019-07-31         10733932.61   \n",
              "3       2019-08-31         12558727.02   \n",
              "4       2019-09-30         14505071.44   \n",
              "\n",
              "                 expected_repayment_part_to_forecast  \\\n",
              "0  [0.0, 0.0, 0.0, 0.0, 0.0, 0.0, 0.0, 0.0, 0.0, ...   \n",
              "1  [0.00035375557378911494, 0.0001274502637119302...   \n",
              "2  [0.0003363070416652008, 0.000127581610524241, ...   \n",
              "3  [0.0, 0.0, 0.0, 0.0, 0.0, 0.0, 0.0, 0.0, 0.0, ...   \n",
              "4  [0.0005597463310640909, 0.00025435046008442735...   \n",
              "\n",
              "   total_expected_repayment_part_to_forecast  \\\n",
              "0                                   0.000000   \n",
              "1                                   0.000511   \n",
              "2                                   0.000500   \n",
              "3                                   0.000000   \n",
              "4                                   0.000959   \n",
              "\n",
              "   total_expected_repayment_to_forecast  \n",
              "0                              0.000000  \n",
              "1                           5552.760346  \n",
              "2                           5361.769074  \n",
              "3                              0.000000  \n",
              "4                          13904.534339  "
            ],
            "text/html": [
              "\n",
              "  <div id=\"df-ae03c317-cab0-400e-a894-ebd99c53c6d9\">\n",
              "    <div class=\"colab-df-container\">\n",
              "      <div>\n",
              "<style scoped>\n",
              "    .dataframe tbody tr th:only-of-type {\n",
              "        vertical-align: middle;\n",
              "    }\n",
              "\n",
              "    .dataframe tbody tr th {\n",
              "        vertical-align: top;\n",
              "    }\n",
              "\n",
              "    .dataframe thead th {\n",
              "        text-align: right;\n",
              "    }\n",
              "</style>\n",
              "<table border=\"1\" class=\"dataframe\">\n",
              "  <thead>\n",
              "    <tr style=\"text-align: right;\">\n",
              "      <th></th>\n",
              "      <th>origination_date</th>\n",
              "      <th>origination_amount</th>\n",
              "      <th>expected_repayment_part_to_forecast</th>\n",
              "      <th>total_expected_repayment_part_to_forecast</th>\n",
              "      <th>total_expected_repayment_to_forecast</th>\n",
              "    </tr>\n",
              "  </thead>\n",
              "  <tbody>\n",
              "    <tr>\n",
              "      <th>0</th>\n",
              "      <td>2019-05-31</td>\n",
              "      <td>10018746.17</td>\n",
              "      <td>[0.0, 0.0, 0.0, 0.0, 0.0, 0.0, 0.0, 0.0, 0.0, ...</td>\n",
              "      <td>0.000000</td>\n",
              "      <td>0.000000</td>\n",
              "    </tr>\n",
              "    <tr>\n",
              "      <th>1</th>\n",
              "      <td>2019-06-30</td>\n",
              "      <td>10868379.04</td>\n",
              "      <td>[0.00035375557378911494, 0.0001274502637119302...</td>\n",
              "      <td>0.000511</td>\n",
              "      <td>5552.760346</td>\n",
              "    </tr>\n",
              "    <tr>\n",
              "      <th>2</th>\n",
              "      <td>2019-07-31</td>\n",
              "      <td>10733932.61</td>\n",
              "      <td>[0.0003363070416652008, 0.000127581610524241, ...</td>\n",
              "      <td>0.000500</td>\n",
              "      <td>5361.769074</td>\n",
              "    </tr>\n",
              "    <tr>\n",
              "      <th>3</th>\n",
              "      <td>2019-08-31</td>\n",
              "      <td>12558727.02</td>\n",
              "      <td>[0.0, 0.0, 0.0, 0.0, 0.0, 0.0, 0.0, 0.0, 0.0, ...</td>\n",
              "      <td>0.000000</td>\n",
              "      <td>0.000000</td>\n",
              "    </tr>\n",
              "    <tr>\n",
              "      <th>4</th>\n",
              "      <td>2019-09-30</td>\n",
              "      <td>14505071.44</td>\n",
              "      <td>[0.0005597463310640909, 0.00025435046008442735...</td>\n",
              "      <td>0.000959</td>\n",
              "      <td>13904.534339</td>\n",
              "    </tr>\n",
              "  </tbody>\n",
              "</table>\n",
              "</div>\n",
              "      <button class=\"colab-df-convert\" onclick=\"convertToInteractive('df-ae03c317-cab0-400e-a894-ebd99c53c6d9')\"\n",
              "              title=\"Convert this dataframe to an interactive table.\"\n",
              "              style=\"display:none;\">\n",
              "        \n",
              "  <svg xmlns=\"http://www.w3.org/2000/svg\" height=\"24px\"viewBox=\"0 0 24 24\"\n",
              "       width=\"24px\">\n",
              "    <path d=\"M0 0h24v24H0V0z\" fill=\"none\"/>\n",
              "    <path d=\"M18.56 5.44l.94 2.06.94-2.06 2.06-.94-2.06-.94-.94-2.06-.94 2.06-2.06.94zm-11 1L8.5 8.5l.94-2.06 2.06-.94-2.06-.94L8.5 2.5l-.94 2.06-2.06.94zm10 10l.94 2.06.94-2.06 2.06-.94-2.06-.94-.94-2.06-.94 2.06-2.06.94z\"/><path d=\"M17.41 7.96l-1.37-1.37c-.4-.4-.92-.59-1.43-.59-.52 0-1.04.2-1.43.59L10.3 9.45l-7.72 7.72c-.78.78-.78 2.05 0 2.83L4 21.41c.39.39.9.59 1.41.59.51 0 1.02-.2 1.41-.59l7.78-7.78 2.81-2.81c.8-.78.8-2.07 0-2.86zM5.41 20L4 18.59l7.72-7.72 1.47 1.35L5.41 20z\"/>\n",
              "  </svg>\n",
              "      </button>\n",
              "      \n",
              "  <style>\n",
              "    .colab-df-container {\n",
              "      display:flex;\n",
              "      flex-wrap:wrap;\n",
              "      gap: 12px;\n",
              "    }\n",
              "\n",
              "    .colab-df-convert {\n",
              "      background-color: #E8F0FE;\n",
              "      border: none;\n",
              "      border-radius: 50%;\n",
              "      cursor: pointer;\n",
              "      display: none;\n",
              "      fill: #1967D2;\n",
              "      height: 32px;\n",
              "      padding: 0 0 0 0;\n",
              "      width: 32px;\n",
              "    }\n",
              "\n",
              "    .colab-df-convert:hover {\n",
              "      background-color: #E2EBFA;\n",
              "      box-shadow: 0px 1px 2px rgba(60, 64, 67, 0.3), 0px 1px 3px 1px rgba(60, 64, 67, 0.15);\n",
              "      fill: #174EA6;\n",
              "    }\n",
              "\n",
              "    [theme=dark] .colab-df-convert {\n",
              "      background-color: #3B4455;\n",
              "      fill: #D2E3FC;\n",
              "    }\n",
              "\n",
              "    [theme=dark] .colab-df-convert:hover {\n",
              "      background-color: #434B5C;\n",
              "      box-shadow: 0px 1px 3px 1px rgba(0, 0, 0, 0.15);\n",
              "      filter: drop-shadow(0px 1px 2px rgba(0, 0, 0, 0.3));\n",
              "      fill: #FFFFFF;\n",
              "    }\n",
              "  </style>\n",
              "\n",
              "      <script>\n",
              "        const buttonEl =\n",
              "          document.querySelector('#df-ae03c317-cab0-400e-a894-ebd99c53c6d9 button.colab-df-convert');\n",
              "        buttonEl.style.display =\n",
              "          google.colab.kernel.accessAllowed ? 'block' : 'none';\n",
              "\n",
              "        async function convertToInteractive(key) {\n",
              "          const element = document.querySelector('#df-ae03c317-cab0-400e-a894-ebd99c53c6d9');\n",
              "          const dataTable =\n",
              "            await google.colab.kernel.invokeFunction('convertToInteractive',\n",
              "                                                     [key], {});\n",
              "          if (!dataTable) return;\n",
              "\n",
              "          const docLinkHtml = 'Like what you see? Visit the ' +\n",
              "            '<a target=\"_blank\" href=https://colab.research.google.com/notebooks/data_table.ipynb>data table notebook</a>'\n",
              "            + ' to learn more about interactive tables.';\n",
              "          element.innerHTML = '';\n",
              "          dataTable['output_type'] = 'display_data';\n",
              "          await google.colab.output.renderOutput(dataTable, element);\n",
              "          const docLink = document.createElement('div');\n",
              "          docLink.innerHTML = docLinkHtml;\n",
              "          element.appendChild(docLink);\n",
              "        }\n",
              "      </script>\n",
              "    </div>\n",
              "  </div>\n",
              "  "
            ]
          },
          "metadata": {},
          "execution_count": 618
        }
      ]
    },
    {
      "cell_type": "code",
      "source": [
        "df_agg2['total_expected_repayment_to_forecast'].sum()"
      ],
      "metadata": {
        "colab": {
          "base_uri": "https://localhost:8080/"
        },
        "id": "6wsIafiWhYhy",
        "outputId": "37b1c3d0-5461-4f8c-b516-6f10bb71db13"
      },
      "execution_count": 619,
      "outputs": [
        {
          "output_type": "execute_result",
          "data": {
            "text/plain": [
              "48330.86427843139"
            ]
          },
          "metadata": {},
          "execution_count": 619
        }
      ]
    },
    {
      "cell_type": "markdown",
      "source": [
        "The target number from the instruction is 84993122.67. I got 48330.86. Still wrong. Sorry but I'm going to let this go. I'm moving on to machine learning problems that are the objectives of my attempts in doing these virtual experiences. I'm making machine learning portfolio."
      ],
      "metadata": {
        "id": "YNZTiscHhvMQ"
      }
    },
    {
      "cell_type": "code",
      "source": [],
      "metadata": {
        "id": "d9SjKl5riHE5"
      },
      "execution_count": null,
      "outputs": []
    }
  ]
}