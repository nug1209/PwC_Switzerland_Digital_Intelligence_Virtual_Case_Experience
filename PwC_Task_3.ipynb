{
  "nbformat": 4,
  "nbformat_minor": 0,
  "metadata": {
    "colab": {
      "provenance": [],
      "authorship_tag": "ABX9TyMY9lvsan1eXWo6hD6nLVes",
      "include_colab_link": true
    },
    "kernelspec": {
      "name": "python3",
      "display_name": "Python 3"
    },
    "language_info": {
      "name": "python"
    }
  },
  "cells": [
    {
      "cell_type": "markdown",
      "metadata": {
        "id": "view-in-github",
        "colab_type": "text"
      },
      "source": [
        "<a href=\"https://colab.research.google.com/github/nug1209/PwC_Switzerland_Digital_Intelligence_Virtual_Case_Experience/blob/main/PwC_Task_3.ipynb\" target=\"_parent\"><img src=\"https://colab.research.google.com/assets/colab-badge.svg\" alt=\"Open In Colab\"/></a>"
      ]
    },
    {
      "cell_type": "markdown",
      "source": [
        "In this task we deal with merchant loan data. We will create a forecast about how much will the total repayment will be after these loans are finished (after 30 months since the loans started). The formula for counting the repayment is provided. We will also create percentage values for each repayment in comparison with the origination amount."
      ],
      "metadata": {
        "id": "poHlfFCMhhim"
      }
    },
    {
      "cell_type": "markdown",
      "source": [
        "Import libraries."
      ],
      "metadata": {
        "id": "wL51ixr66D6k"
      }
    },
    {
      "cell_type": "code",
      "execution_count": 247,
      "metadata": {
        "id": "KNpzQkxYnZ6z"
      },
      "outputs": [],
      "source": [
        "import pandas as pd\n",
        "import numpy as np\n",
        "import matplotlib.pyplot as plt\n",
        "import seaborn as sns\n",
        "from google.colab import drive\n",
        "from datetime import datetime"
      ]
    },
    {
      "cell_type": "markdown",
      "source": [
        "Mount Google Drive to get the data."
      ],
      "metadata": {
        "id": "JHtiNjcD6F5g"
      }
    },
    {
      "cell_type": "code",
      "source": [
        "drive.mount('/content/drive')\n",
        "path = '/content/drive/MyDrive/Virtual Experience/PwC_Task_2_Data.csv'\n",
        "\n",
        "df = pd.read_csv(path, delimiter=';')"
      ],
      "metadata": {
        "id": "KU1fxiItn58O",
        "colab": {
          "base_uri": "https://localhost:8080/"
        },
        "outputId": "19191d80-2982-4372-c0e2-4e7a341e3818"
      },
      "execution_count": 248,
      "outputs": [
        {
          "output_type": "stream",
          "name": "stdout",
          "text": [
            "Drive already mounted at /content/drive; to attempt to forcibly remount, call drive.mount(\"/content/drive\", force_remount=True).\n"
          ]
        }
      ]
    },
    {
      "cell_type": "markdown",
      "source": [
        "Rename columns."
      ],
      "metadata": {
        "id": "xnN7AaZ76KJL"
      }
    },
    {
      "cell_type": "code",
      "source": [
        "df = df.rename(columns={'Unnamed: 0':'origination_date', 'Origination Amount':'origination_amount'})\n",
        "df.head(1)"
      ],
      "metadata": {
        "id": "aKFCQA1OeZQT",
        "colab": {
          "base_uri": "https://localhost:8080/",
          "height": 174
        },
        "outputId": "61650ff5-ba79-41a5-c3f0-1d590266d87f"
      },
      "execution_count": 249,
      "outputs": [
        {
          "output_type": "execute_result",
          "data": {
            "text/plain": [
              "  origination_date  origination_amount  31.05.2019  30.06.2019  31.07.2019  \\\n",
              "0       31.05.2019         10018746.17  1443069.08  3332200.33  1328138.75   \n",
              "\n",
              "   31.08.2019  30.09.2019  31.10.2019  30.11.2019  31.12.2019  ...  \\\n",
              "0   928085.74   736418.27   539403.31   427557.86   324459.32  ...   \n",
              "\n",
              "   31.03.2020  30.04.2020  31.05.2020  30.06.2020  31.07.2020  31.08.2020  \\\n",
              "0   116684.68    92699.67    63399.66    53265.12    37121.13     29787.1   \n",
              "\n",
              "   30.09.2020  31.10.2020  30.11.2020  31.12.2020  \n",
              "0     24524.9    18085.94    16581.01    11442.97  \n",
              "\n",
              "[1 rows x 22 columns]"
            ],
            "text/html": [
              "\n",
              "  <div id=\"df-df676dcf-aec6-4f29-a276-f6f7b3dd8f19\">\n",
              "    <div class=\"colab-df-container\">\n",
              "      <div>\n",
              "<style scoped>\n",
              "    .dataframe tbody tr th:only-of-type {\n",
              "        vertical-align: middle;\n",
              "    }\n",
              "\n",
              "    .dataframe tbody tr th {\n",
              "        vertical-align: top;\n",
              "    }\n",
              "\n",
              "    .dataframe thead th {\n",
              "        text-align: right;\n",
              "    }\n",
              "</style>\n",
              "<table border=\"1\" class=\"dataframe\">\n",
              "  <thead>\n",
              "    <tr style=\"text-align: right;\">\n",
              "      <th></th>\n",
              "      <th>origination_date</th>\n",
              "      <th>origination_amount</th>\n",
              "      <th>31.05.2019</th>\n",
              "      <th>30.06.2019</th>\n",
              "      <th>31.07.2019</th>\n",
              "      <th>31.08.2019</th>\n",
              "      <th>30.09.2019</th>\n",
              "      <th>31.10.2019</th>\n",
              "      <th>30.11.2019</th>\n",
              "      <th>31.12.2019</th>\n",
              "      <th>...</th>\n",
              "      <th>31.03.2020</th>\n",
              "      <th>30.04.2020</th>\n",
              "      <th>31.05.2020</th>\n",
              "      <th>30.06.2020</th>\n",
              "      <th>31.07.2020</th>\n",
              "      <th>31.08.2020</th>\n",
              "      <th>30.09.2020</th>\n",
              "      <th>31.10.2020</th>\n",
              "      <th>30.11.2020</th>\n",
              "      <th>31.12.2020</th>\n",
              "    </tr>\n",
              "  </thead>\n",
              "  <tbody>\n",
              "    <tr>\n",
              "      <th>0</th>\n",
              "      <td>31.05.2019</td>\n",
              "      <td>10018746.17</td>\n",
              "      <td>1443069.08</td>\n",
              "      <td>3332200.33</td>\n",
              "      <td>1328138.75</td>\n",
              "      <td>928085.74</td>\n",
              "      <td>736418.27</td>\n",
              "      <td>539403.31</td>\n",
              "      <td>427557.86</td>\n",
              "      <td>324459.32</td>\n",
              "      <td>...</td>\n",
              "      <td>116684.68</td>\n",
              "      <td>92699.67</td>\n",
              "      <td>63399.66</td>\n",
              "      <td>53265.12</td>\n",
              "      <td>37121.13</td>\n",
              "      <td>29787.1</td>\n",
              "      <td>24524.9</td>\n",
              "      <td>18085.94</td>\n",
              "      <td>16581.01</td>\n",
              "      <td>11442.97</td>\n",
              "    </tr>\n",
              "  </tbody>\n",
              "</table>\n",
              "<p>1 rows × 22 columns</p>\n",
              "</div>\n",
              "      <button class=\"colab-df-convert\" onclick=\"convertToInteractive('df-df676dcf-aec6-4f29-a276-f6f7b3dd8f19')\"\n",
              "              title=\"Convert this dataframe to an interactive table.\"\n",
              "              style=\"display:none;\">\n",
              "        \n",
              "  <svg xmlns=\"http://www.w3.org/2000/svg\" height=\"24px\"viewBox=\"0 0 24 24\"\n",
              "       width=\"24px\">\n",
              "    <path d=\"M0 0h24v24H0V0z\" fill=\"none\"/>\n",
              "    <path d=\"M18.56 5.44l.94 2.06.94-2.06 2.06-.94-2.06-.94-.94-2.06-.94 2.06-2.06.94zm-11 1L8.5 8.5l.94-2.06 2.06-.94-2.06-.94L8.5 2.5l-.94 2.06-2.06.94zm10 10l.94 2.06.94-2.06 2.06-.94-2.06-.94-.94-2.06-.94 2.06-2.06.94z\"/><path d=\"M17.41 7.96l-1.37-1.37c-.4-.4-.92-.59-1.43-.59-.52 0-1.04.2-1.43.59L10.3 9.45l-7.72 7.72c-.78.78-.78 2.05 0 2.83L4 21.41c.39.39.9.59 1.41.59.51 0 1.02-.2 1.41-.59l7.78-7.78 2.81-2.81c.8-.78.8-2.07 0-2.86zM5.41 20L4 18.59l7.72-7.72 1.47 1.35L5.41 20z\"/>\n",
              "  </svg>\n",
              "      </button>\n",
              "      \n",
              "  <style>\n",
              "    .colab-df-container {\n",
              "      display:flex;\n",
              "      flex-wrap:wrap;\n",
              "      gap: 12px;\n",
              "    }\n",
              "\n",
              "    .colab-df-convert {\n",
              "      background-color: #E8F0FE;\n",
              "      border: none;\n",
              "      border-radius: 50%;\n",
              "      cursor: pointer;\n",
              "      display: none;\n",
              "      fill: #1967D2;\n",
              "      height: 32px;\n",
              "      padding: 0 0 0 0;\n",
              "      width: 32px;\n",
              "    }\n",
              "\n",
              "    .colab-df-convert:hover {\n",
              "      background-color: #E2EBFA;\n",
              "      box-shadow: 0px 1px 2px rgba(60, 64, 67, 0.3), 0px 1px 3px 1px rgba(60, 64, 67, 0.15);\n",
              "      fill: #174EA6;\n",
              "    }\n",
              "\n",
              "    [theme=dark] .colab-df-convert {\n",
              "      background-color: #3B4455;\n",
              "      fill: #D2E3FC;\n",
              "    }\n",
              "\n",
              "    [theme=dark] .colab-df-convert:hover {\n",
              "      background-color: #434B5C;\n",
              "      box-shadow: 0px 1px 3px 1px rgba(0, 0, 0, 0.15);\n",
              "      filter: drop-shadow(0px 1px 2px rgba(0, 0, 0, 0.3));\n",
              "      fill: #FFFFFF;\n",
              "    }\n",
              "  </style>\n",
              "\n",
              "      <script>\n",
              "        const buttonEl =\n",
              "          document.querySelector('#df-df676dcf-aec6-4f29-a276-f6f7b3dd8f19 button.colab-df-convert');\n",
              "        buttonEl.style.display =\n",
              "          google.colab.kernel.accessAllowed ? 'block' : 'none';\n",
              "\n",
              "        async function convertToInteractive(key) {\n",
              "          const element = document.querySelector('#df-df676dcf-aec6-4f29-a276-f6f7b3dd8f19');\n",
              "          const dataTable =\n",
              "            await google.colab.kernel.invokeFunction('convertToInteractive',\n",
              "                                                     [key], {});\n",
              "          if (!dataTable) return;\n",
              "\n",
              "          const docLinkHtml = 'Like what you see? Visit the ' +\n",
              "            '<a target=\"_blank\" href=https://colab.research.google.com/notebooks/data_table.ipynb>data table notebook</a>'\n",
              "            + ' to learn more about interactive tables.';\n",
              "          element.innerHTML = '';\n",
              "          dataTable['output_type'] = 'display_data';\n",
              "          await google.colab.output.renderOutput(dataTable, element);\n",
              "          const docLink = document.createElement('div');\n",
              "          docLink.innerHTML = docLinkHtml;\n",
              "          element.appendChild(docLink);\n",
              "        }\n",
              "      </script>\n",
              "    </div>\n",
              "  </div>\n",
              "  "
            ]
          },
          "metadata": {},
          "execution_count": 249
        }
      ]
    },
    {
      "cell_type": "code",
      "source": [
        "df.shape"
      ],
      "metadata": {
        "colab": {
          "base_uri": "https://localhost:8080/"
        },
        "id": "kE2Jc-exo4vx",
        "outputId": "d251d7b4-a3aa-4ba4-ac56-70bdf02a7de8"
      },
      "execution_count": 250,
      "outputs": [
        {
          "output_type": "execute_result",
          "data": {
            "text/plain": [
              "(20, 22)"
            ]
          },
          "metadata": {},
          "execution_count": 250
        }
      ]
    },
    {
      "cell_type": "markdown",
      "source": [
        "Preparation for melting, i.e. transform wide format table to long format."
      ],
      "metadata": {
        "id": "iCah-ViB6Ngl"
      }
    },
    {
      "cell_type": "code",
      "source": [
        "to_remove = ['origination_date', 'origination_amount']\n",
        "value_columns = [i for i in list(df.columns) if i not in to_remove]"
      ],
      "metadata": {
        "id": "RdSwySUZ5hSx"
      },
      "execution_count": 251,
      "outputs": []
    },
    {
      "cell_type": "markdown",
      "source": [
        "This was to calculate repayment percentage early in the processing, but may be it is better done later."
      ],
      "metadata": {
        "id": "NEVaq8_C54uM"
      }
    },
    {
      "cell_type": "code",
      "source": [
        "# for i in value_columns:\n",
        "#   df[i + '_actual_repayment_percent'] = 100 * df[i] / df['origination_amount']\n",
        "\n",
        "# df.columns"
      ],
      "metadata": {
        "id": "dF79L9vz5aaf"
      },
      "execution_count": 252,
      "outputs": []
    },
    {
      "cell_type": "markdown",
      "source": [
        "Convert to long format."
      ],
      "metadata": {
        "id": "Hzb4HfAN6Uuy"
      }
    },
    {
      "cell_type": "code",
      "source": [
        "df = pd.melt(df, id_vars=['origination_date', 'origination_amount'], value_vars=value_columns)\n",
        "df = df.rename(columns={'variable':'repayment_date', 'value':'repayment_amount'})"
      ],
      "metadata": {
        "id": "P05c7K_-oXvZ"
      },
      "execution_count": 253,
      "outputs": []
    },
    {
      "cell_type": "markdown",
      "source": [
        "Remove dates with no repayment."
      ],
      "metadata": {
        "id": "7XghnWED6YUu"
      }
    },
    {
      "cell_type": "code",
      "source": [
        "df = df[df['repayment_amount'] != 0.00]\n",
        "# df"
      ],
      "metadata": {
        "id": "_1YJOMWIew1T"
      },
      "execution_count": 254,
      "outputs": []
    },
    {
      "cell_type": "code",
      "source": [
        "df.info()"
      ],
      "metadata": {
        "colab": {
          "base_uri": "https://localhost:8080/"
        },
        "id": "tVN2vBGt5o-x",
        "outputId": "d9dab573-9816-463a-d11c-43d5730d8e91"
      },
      "execution_count": 255,
      "outputs": [
        {
          "output_type": "stream",
          "name": "stdout",
          "text": [
            "<class 'pandas.core.frame.DataFrame'>\n",
            "Int64Index: 210 entries, 0 to 399\n",
            "Data columns (total 4 columns):\n",
            " #   Column              Non-Null Count  Dtype  \n",
            "---  ------              --------------  -----  \n",
            " 0   origination_date    210 non-null    object \n",
            " 1   origination_amount  210 non-null    float64\n",
            " 2   repayment_date      210 non-null    object \n",
            " 3   repayment_amount    210 non-null    float64\n",
            "dtypes: float64(2), object(2)\n",
            "memory usage: 8.2+ KB\n"
          ]
        }
      ]
    },
    {
      "cell_type": "markdown",
      "source": [
        "Add one row for the last entry as instructed in the task."
      ],
      "metadata": {
        "id": "jXgFBrCf6dgc"
      }
    },
    {
      "cell_type": "code",
      "source": [
        "add_row = {'origination_date':['31.12.2020'], 'origination_amount':[30482978.52], 'repayment_date':['31.01.2021'], 'repayment_amount':[8747661.94]}\n",
        "\n",
        "df = pd.concat([df, pd.DataFrame(add_row)], ignore_index=True)"
      ],
      "metadata": {
        "id": "OX56lAKH5D2S"
      },
      "execution_count": 256,
      "outputs": []
    },
    {
      "cell_type": "code",
      "source": [
        "df.info()"
      ],
      "metadata": {
        "colab": {
          "base_uri": "https://localhost:8080/"
        },
        "id": "qPRDFWNQ50IG",
        "outputId": "7bfb4d60-968d-40e1-84a8-8fccb5126baf"
      },
      "execution_count": 257,
      "outputs": [
        {
          "output_type": "stream",
          "name": "stdout",
          "text": [
            "<class 'pandas.core.frame.DataFrame'>\n",
            "RangeIndex: 211 entries, 0 to 210\n",
            "Data columns (total 4 columns):\n",
            " #   Column              Non-Null Count  Dtype  \n",
            "---  ------              --------------  -----  \n",
            " 0   origination_date    211 non-null    object \n",
            " 1   origination_amount  211 non-null    float64\n",
            " 2   repayment_date      211 non-null    object \n",
            " 3   repayment_amount    211 non-null    float64\n",
            "dtypes: float64(2), object(2)\n",
            "memory usage: 6.7+ KB\n"
          ]
        }
      ]
    },
    {
      "cell_type": "markdown",
      "source": [
        "Convert the date columns to date type."
      ],
      "metadata": {
        "id": "9TispajN6qTW"
      }
    },
    {
      "cell_type": "code",
      "source": [
        "df['origination_date'] = pd.to_datetime(df['origination_date'], format='%d.%m.%Y')\n",
        "df['repayment_date'] = pd.to_datetime(df['repayment_date'], format='%d.%m.%Y')\n",
        "# df.info()"
      ],
      "metadata": {
        "id": "FGl1Z0h_qKJO"
      },
      "execution_count": 258,
      "outputs": []
    },
    {
      "cell_type": "markdown",
      "source": [
        "Sort values."
      ],
      "metadata": {
        "id": "pKIipxoH6tPq"
      }
    },
    {
      "cell_type": "code",
      "source": [
        "df = df.sort_values(by=['origination_date', 'repayment_date'])\n",
        "df"
      ],
      "metadata": {
        "id": "KxF_T5EhrKBJ",
        "colab": {
          "base_uri": "https://localhost:8080/",
          "height": 423
        },
        "outputId": "ed250d4b-a02b-4db2-bccb-9f0dfac4d27f"
      },
      "execution_count": 259,
      "outputs": [
        {
          "output_type": "execute_result",
          "data": {
            "text/plain": [
              "    origination_date  origination_amount repayment_date  repayment_amount\n",
              "0         2019-05-31         10018746.17     2019-05-31        1443069.08\n",
              "1         2019-05-31         10018746.17     2019-06-30        3332200.33\n",
              "3         2019-05-31         10018746.17     2019-07-31        1328138.75\n",
              "6         2019-05-31         10018746.17     2019-08-31         928085.74\n",
              "10        2019-05-31         10018746.17     2019-09-30         736418.27\n",
              "..               ...                 ...            ...               ...\n",
              "207       2020-10-31         27699586.46     2020-12-31        1503544.68\n",
              "189       2020-11-30         29872889.68     2020-11-30        4383982.78\n",
              "208       2020-11-30         29872889.68     2020-12-31        8383025.07\n",
              "209       2020-12-31         30482978.52     2020-12-31        4373830.97\n",
              "210       2020-12-31         30482978.52     2021-01-31        8747661.94\n",
              "\n",
              "[211 rows x 4 columns]"
            ],
            "text/html": [
              "\n",
              "  <div id=\"df-2bb0150a-21b0-4776-8f50-5ec8b96718e5\">\n",
              "    <div class=\"colab-df-container\">\n",
              "      <div>\n",
              "<style scoped>\n",
              "    .dataframe tbody tr th:only-of-type {\n",
              "        vertical-align: middle;\n",
              "    }\n",
              "\n",
              "    .dataframe tbody tr th {\n",
              "        vertical-align: top;\n",
              "    }\n",
              "\n",
              "    .dataframe thead th {\n",
              "        text-align: right;\n",
              "    }\n",
              "</style>\n",
              "<table border=\"1\" class=\"dataframe\">\n",
              "  <thead>\n",
              "    <tr style=\"text-align: right;\">\n",
              "      <th></th>\n",
              "      <th>origination_date</th>\n",
              "      <th>origination_amount</th>\n",
              "      <th>repayment_date</th>\n",
              "      <th>repayment_amount</th>\n",
              "    </tr>\n",
              "  </thead>\n",
              "  <tbody>\n",
              "    <tr>\n",
              "      <th>0</th>\n",
              "      <td>2019-05-31</td>\n",
              "      <td>10018746.17</td>\n",
              "      <td>2019-05-31</td>\n",
              "      <td>1443069.08</td>\n",
              "    </tr>\n",
              "    <tr>\n",
              "      <th>1</th>\n",
              "      <td>2019-05-31</td>\n",
              "      <td>10018746.17</td>\n",
              "      <td>2019-06-30</td>\n",
              "      <td>3332200.33</td>\n",
              "    </tr>\n",
              "    <tr>\n",
              "      <th>3</th>\n",
              "      <td>2019-05-31</td>\n",
              "      <td>10018746.17</td>\n",
              "      <td>2019-07-31</td>\n",
              "      <td>1328138.75</td>\n",
              "    </tr>\n",
              "    <tr>\n",
              "      <th>6</th>\n",
              "      <td>2019-05-31</td>\n",
              "      <td>10018746.17</td>\n",
              "      <td>2019-08-31</td>\n",
              "      <td>928085.74</td>\n",
              "    </tr>\n",
              "    <tr>\n",
              "      <th>10</th>\n",
              "      <td>2019-05-31</td>\n",
              "      <td>10018746.17</td>\n",
              "      <td>2019-09-30</td>\n",
              "      <td>736418.27</td>\n",
              "    </tr>\n",
              "    <tr>\n",
              "      <th>...</th>\n",
              "      <td>...</td>\n",
              "      <td>...</td>\n",
              "      <td>...</td>\n",
              "      <td>...</td>\n",
              "    </tr>\n",
              "    <tr>\n",
              "      <th>207</th>\n",
              "      <td>2020-10-31</td>\n",
              "      <td>27699586.46</td>\n",
              "      <td>2020-12-31</td>\n",
              "      <td>1503544.68</td>\n",
              "    </tr>\n",
              "    <tr>\n",
              "      <th>189</th>\n",
              "      <td>2020-11-30</td>\n",
              "      <td>29872889.68</td>\n",
              "      <td>2020-11-30</td>\n",
              "      <td>4383982.78</td>\n",
              "    </tr>\n",
              "    <tr>\n",
              "      <th>208</th>\n",
              "      <td>2020-11-30</td>\n",
              "      <td>29872889.68</td>\n",
              "      <td>2020-12-31</td>\n",
              "      <td>8383025.07</td>\n",
              "    </tr>\n",
              "    <tr>\n",
              "      <th>209</th>\n",
              "      <td>2020-12-31</td>\n",
              "      <td>30482978.52</td>\n",
              "      <td>2020-12-31</td>\n",
              "      <td>4373830.97</td>\n",
              "    </tr>\n",
              "    <tr>\n",
              "      <th>210</th>\n",
              "      <td>2020-12-31</td>\n",
              "      <td>30482978.52</td>\n",
              "      <td>2021-01-31</td>\n",
              "      <td>8747661.94</td>\n",
              "    </tr>\n",
              "  </tbody>\n",
              "</table>\n",
              "<p>211 rows × 4 columns</p>\n",
              "</div>\n",
              "      <button class=\"colab-df-convert\" onclick=\"convertToInteractive('df-2bb0150a-21b0-4776-8f50-5ec8b96718e5')\"\n",
              "              title=\"Convert this dataframe to an interactive table.\"\n",
              "              style=\"display:none;\">\n",
              "        \n",
              "  <svg xmlns=\"http://www.w3.org/2000/svg\" height=\"24px\"viewBox=\"0 0 24 24\"\n",
              "       width=\"24px\">\n",
              "    <path d=\"M0 0h24v24H0V0z\" fill=\"none\"/>\n",
              "    <path d=\"M18.56 5.44l.94 2.06.94-2.06 2.06-.94-2.06-.94-.94-2.06-.94 2.06-2.06.94zm-11 1L8.5 8.5l.94-2.06 2.06-.94-2.06-.94L8.5 2.5l-.94 2.06-2.06.94zm10 10l.94 2.06.94-2.06 2.06-.94-2.06-.94-.94-2.06-.94 2.06-2.06.94z\"/><path d=\"M17.41 7.96l-1.37-1.37c-.4-.4-.92-.59-1.43-.59-.52 0-1.04.2-1.43.59L10.3 9.45l-7.72 7.72c-.78.78-.78 2.05 0 2.83L4 21.41c.39.39.9.59 1.41.59.51 0 1.02-.2 1.41-.59l7.78-7.78 2.81-2.81c.8-.78.8-2.07 0-2.86zM5.41 20L4 18.59l7.72-7.72 1.47 1.35L5.41 20z\"/>\n",
              "  </svg>\n",
              "      </button>\n",
              "      \n",
              "  <style>\n",
              "    .colab-df-container {\n",
              "      display:flex;\n",
              "      flex-wrap:wrap;\n",
              "      gap: 12px;\n",
              "    }\n",
              "\n",
              "    .colab-df-convert {\n",
              "      background-color: #E8F0FE;\n",
              "      border: none;\n",
              "      border-radius: 50%;\n",
              "      cursor: pointer;\n",
              "      display: none;\n",
              "      fill: #1967D2;\n",
              "      height: 32px;\n",
              "      padding: 0 0 0 0;\n",
              "      width: 32px;\n",
              "    }\n",
              "\n",
              "    .colab-df-convert:hover {\n",
              "      background-color: #E2EBFA;\n",
              "      box-shadow: 0px 1px 2px rgba(60, 64, 67, 0.3), 0px 1px 3px 1px rgba(60, 64, 67, 0.15);\n",
              "      fill: #174EA6;\n",
              "    }\n",
              "\n",
              "    [theme=dark] .colab-df-convert {\n",
              "      background-color: #3B4455;\n",
              "      fill: #D2E3FC;\n",
              "    }\n",
              "\n",
              "    [theme=dark] .colab-df-convert:hover {\n",
              "      background-color: #434B5C;\n",
              "      box-shadow: 0px 1px 3px 1px rgba(0, 0, 0, 0.15);\n",
              "      filter: drop-shadow(0px 1px 2px rgba(0, 0, 0, 0.3));\n",
              "      fill: #FFFFFF;\n",
              "    }\n",
              "  </style>\n",
              "\n",
              "      <script>\n",
              "        const buttonEl =\n",
              "          document.querySelector('#df-2bb0150a-21b0-4776-8f50-5ec8b96718e5 button.colab-df-convert');\n",
              "        buttonEl.style.display =\n",
              "          google.colab.kernel.accessAllowed ? 'block' : 'none';\n",
              "\n",
              "        async function convertToInteractive(key) {\n",
              "          const element = document.querySelector('#df-2bb0150a-21b0-4776-8f50-5ec8b96718e5');\n",
              "          const dataTable =\n",
              "            await google.colab.kernel.invokeFunction('convertToInteractive',\n",
              "                                                     [key], {});\n",
              "          if (!dataTable) return;\n",
              "\n",
              "          const docLinkHtml = 'Like what you see? Visit the ' +\n",
              "            '<a target=\"_blank\" href=https://colab.research.google.com/notebooks/data_table.ipynb>data table notebook</a>'\n",
              "            + ' to learn more about interactive tables.';\n",
              "          element.innerHTML = '';\n",
              "          dataTable['output_type'] = 'display_data';\n",
              "          await google.colab.output.renderOutput(dataTable, element);\n",
              "          const docLink = document.createElement('div');\n",
              "          docLink.innerHTML = docLinkHtml;\n",
              "          element.appendChild(docLink);\n",
              "        }\n",
              "      </script>\n",
              "    </div>\n",
              "  </div>\n",
              "  "
            ]
          },
          "metadata": {},
          "execution_count": 259
        }
      ]
    },
    {
      "cell_type": "code",
      "source": [
        "df_copy = df.copy()"
      ],
      "metadata": {
        "id": "8iplsKqU64Bk"
      },
      "execution_count": 260,
      "outputs": []
    },
    {
      "cell_type": "markdown",
      "source": [
        "Create data frame from unique values of origination date and origination amount so that it can be merged later with the repayment values."
      ],
      "metadata": {
        "id": "QTlXz3xk63PK"
      }
    },
    {
      "cell_type": "code",
      "source": [
        "df1 = df[['origination_date', 'origination_amount']].drop_duplicates().reset_index(drop=True)\n",
        "# df1"
      ],
      "metadata": {
        "id": "SEYvgl7e7NS8"
      },
      "execution_count": 261,
      "outputs": []
    },
    {
      "cell_type": "markdown",
      "source": [
        "Get the first two repayments."
      ],
      "metadata": {
        "id": "6t6Q4BjD7i3R"
      }
    },
    {
      "cell_type": "code",
      "source": [
        "two_repayments = df.groupby('origination_date')['repayment_amount'].apply(list).reset_index(name='repayment')['repayment'].apply(lambda x: x[0: 2])\n",
        "df2 = pd.DataFrame(two_repayments, columns=['repayment'])\n",
        "# df2"
      ],
      "metadata": {
        "id": "WvhmGyWgGvdU"
      },
      "execution_count": 262,
      "outputs": []
    },
    {
      "cell_type": "code",
      "source": [
        "df_agg = pd.concat([df1, df2], axis=1)\n",
        "# df_agg"
      ],
      "metadata": {
        "id": "vaRHJuD787ZG"
      },
      "execution_count": 263,
      "outputs": []
    },
    {
      "cell_type": "code",
      "source": [
        "# def repayment_percent(a, b):\n",
        "#   return [100* i / b for i in a]\n",
        "\n",
        "def repayment_part(a, b):\n",
        "  return [i / b for i in a]"
      ],
      "metadata": {
        "id": "Jcu05sIHFCNk"
      },
      "execution_count": 264,
      "outputs": []
    },
    {
      "cell_type": "code",
      "source": [
        "df_agg['repayment_part'] = df_agg.apply(lambda row: repayment_part(row['repayment'], row['origination_amount']), axis=1)\n",
        "df_agg"
      ],
      "metadata": {
        "colab": {
          "base_uri": "https://localhost:8080/",
          "height": 676
        },
        "id": "wS-Ky5z5-gbR",
        "outputId": "4b003fa1-8be6-46b5-e875-cc6f930c6aa3"
      },
      "execution_count": 265,
      "outputs": [
        {
          "output_type": "execute_result",
          "data": {
            "text/plain": [
              "   origination_date  origination_amount                 repayment  \\\n",
              "0        2019-05-31         10018746.17  [1443069.08, 3332200.33]   \n",
              "1        2019-06-30         10868379.04   [1392751.6, 3011884.91]   \n",
              "2        2019-07-31         10733932.61  [1537650.24, 2953335.55]   \n",
              "3        2019-08-31         12558727.02   [1617681.94, 4082016.0]   \n",
              "4        2019-09-30         14505071.44   [1992242.84, 3930445.6]   \n",
              "5        2019-10-31         15652952.20  [2289453.76, 4682354.31]   \n",
              "6        2019-11-30         15107713.30  [2162283.09, 4637701.69]   \n",
              "7        2019-12-31         17004745.04  [2402403.37, 4947764.21]   \n",
              "8        2020-01-31         16794379.95  [2502066.86, 4696910.48]   \n",
              "9        2020-02-29         19217205.82  [2833811.35, 6142911.08]   \n",
              "10       2020-03-31         21628095.29  [2843285.54, 6228477.78]   \n",
              "11       2020-04-30         22334728.88  [3332800.29, 6476251.76]   \n",
              "12       2020-05-31         22393345.39  [3575896.21, 7636995.58]   \n",
              "13       2020-06-30         24671655.23  [3746372.58, 8983764.16]   \n",
              "14       2020-07-31         25478232.23  [3470149.61, 8030091.09]   \n",
              "15       2020-08-31         25878820.95   [3510328.95, 8374134.7]   \n",
              "16       2020-09-30         25887161.41  [3976808.32, 7065477.24]   \n",
              "17       2020-10-31         27699586.46  [3667678.21, 8752706.73]   \n",
              "18       2020-11-30         29872889.68  [4383982.78, 8383025.07]   \n",
              "19       2020-12-31         30482978.52  [4373830.97, 8747661.94]   \n",
              "\n",
              "                                repayment_part  \n",
              "0   [0.14403689398989936, 0.33259654186847215]  \n",
              "1      [0.1281471316811932, 0.277123653758767]  \n",
              "2    [0.14325134094539466, 0.2751401240630669]  \n",
              "3     [0.128809387880142, 0.32503421672429983]  \n",
              "4   [0.13734801984539555, 0.27097044066678516]  \n",
              "5    [0.14626338410462916, 0.2991355400676429]  \n",
              "6   [0.14312444557708145, 0.30697575456373005]  \n",
              "7   [0.14127841166385405, 0.29096373973037826]  \n",
              "8   [0.14898238979046083, 0.27967156239072705]  \n",
              "9     [0.1474621948967605, 0.3196568292777956]  \n",
              "10   [0.1314625953823417, 0.28798087378872467]  \n",
              "11   [0.14922053936300123, 0.2899633031050252]  \n",
              "12    [0.1596856632058583, 0.3410386187054653]  \n",
              "13   [0.15184925960883736, 0.3641330132189919]  \n",
              "14   [0.13620056441411907, 0.3151745779499083]  \n",
              "15   [0.1356448563395621, 0.32359027160393106]  \n",
              "16   [0.15362087240912367, 0.2729336418194798]  \n",
              "17     [0.13240913236363167, 0.31598690986378]  \n",
              "18  [0.14675455996930525, 0.28062317237466533]  \n",
              "19    [0.1434843700437709, 0.2869687400875418]  "
            ],
            "text/html": [
              "\n",
              "  <div id=\"df-4eaa8910-e21d-4613-800c-cd57599ff559\">\n",
              "    <div class=\"colab-df-container\">\n",
              "      <div>\n",
              "<style scoped>\n",
              "    .dataframe tbody tr th:only-of-type {\n",
              "        vertical-align: middle;\n",
              "    }\n",
              "\n",
              "    .dataframe tbody tr th {\n",
              "        vertical-align: top;\n",
              "    }\n",
              "\n",
              "    .dataframe thead th {\n",
              "        text-align: right;\n",
              "    }\n",
              "</style>\n",
              "<table border=\"1\" class=\"dataframe\">\n",
              "  <thead>\n",
              "    <tr style=\"text-align: right;\">\n",
              "      <th></th>\n",
              "      <th>origination_date</th>\n",
              "      <th>origination_amount</th>\n",
              "      <th>repayment</th>\n",
              "      <th>repayment_part</th>\n",
              "    </tr>\n",
              "  </thead>\n",
              "  <tbody>\n",
              "    <tr>\n",
              "      <th>0</th>\n",
              "      <td>2019-05-31</td>\n",
              "      <td>10018746.17</td>\n",
              "      <td>[1443069.08, 3332200.33]</td>\n",
              "      <td>[0.14403689398989936, 0.33259654186847215]</td>\n",
              "    </tr>\n",
              "    <tr>\n",
              "      <th>1</th>\n",
              "      <td>2019-06-30</td>\n",
              "      <td>10868379.04</td>\n",
              "      <td>[1392751.6, 3011884.91]</td>\n",
              "      <td>[0.1281471316811932, 0.277123653758767]</td>\n",
              "    </tr>\n",
              "    <tr>\n",
              "      <th>2</th>\n",
              "      <td>2019-07-31</td>\n",
              "      <td>10733932.61</td>\n",
              "      <td>[1537650.24, 2953335.55]</td>\n",
              "      <td>[0.14325134094539466, 0.2751401240630669]</td>\n",
              "    </tr>\n",
              "    <tr>\n",
              "      <th>3</th>\n",
              "      <td>2019-08-31</td>\n",
              "      <td>12558727.02</td>\n",
              "      <td>[1617681.94, 4082016.0]</td>\n",
              "      <td>[0.128809387880142, 0.32503421672429983]</td>\n",
              "    </tr>\n",
              "    <tr>\n",
              "      <th>4</th>\n",
              "      <td>2019-09-30</td>\n",
              "      <td>14505071.44</td>\n",
              "      <td>[1992242.84, 3930445.6]</td>\n",
              "      <td>[0.13734801984539555, 0.27097044066678516]</td>\n",
              "    </tr>\n",
              "    <tr>\n",
              "      <th>5</th>\n",
              "      <td>2019-10-31</td>\n",
              "      <td>15652952.20</td>\n",
              "      <td>[2289453.76, 4682354.31]</td>\n",
              "      <td>[0.14626338410462916, 0.2991355400676429]</td>\n",
              "    </tr>\n",
              "    <tr>\n",
              "      <th>6</th>\n",
              "      <td>2019-11-30</td>\n",
              "      <td>15107713.30</td>\n",
              "      <td>[2162283.09, 4637701.69]</td>\n",
              "      <td>[0.14312444557708145, 0.30697575456373005]</td>\n",
              "    </tr>\n",
              "    <tr>\n",
              "      <th>7</th>\n",
              "      <td>2019-12-31</td>\n",
              "      <td>17004745.04</td>\n",
              "      <td>[2402403.37, 4947764.21]</td>\n",
              "      <td>[0.14127841166385405, 0.29096373973037826]</td>\n",
              "    </tr>\n",
              "    <tr>\n",
              "      <th>8</th>\n",
              "      <td>2020-01-31</td>\n",
              "      <td>16794379.95</td>\n",
              "      <td>[2502066.86, 4696910.48]</td>\n",
              "      <td>[0.14898238979046083, 0.27967156239072705]</td>\n",
              "    </tr>\n",
              "    <tr>\n",
              "      <th>9</th>\n",
              "      <td>2020-02-29</td>\n",
              "      <td>19217205.82</td>\n",
              "      <td>[2833811.35, 6142911.08]</td>\n",
              "      <td>[0.1474621948967605, 0.3196568292777956]</td>\n",
              "    </tr>\n",
              "    <tr>\n",
              "      <th>10</th>\n",
              "      <td>2020-03-31</td>\n",
              "      <td>21628095.29</td>\n",
              "      <td>[2843285.54, 6228477.78]</td>\n",
              "      <td>[0.1314625953823417, 0.28798087378872467]</td>\n",
              "    </tr>\n",
              "    <tr>\n",
              "      <th>11</th>\n",
              "      <td>2020-04-30</td>\n",
              "      <td>22334728.88</td>\n",
              "      <td>[3332800.29, 6476251.76]</td>\n",
              "      <td>[0.14922053936300123, 0.2899633031050252]</td>\n",
              "    </tr>\n",
              "    <tr>\n",
              "      <th>12</th>\n",
              "      <td>2020-05-31</td>\n",
              "      <td>22393345.39</td>\n",
              "      <td>[3575896.21, 7636995.58]</td>\n",
              "      <td>[0.1596856632058583, 0.3410386187054653]</td>\n",
              "    </tr>\n",
              "    <tr>\n",
              "      <th>13</th>\n",
              "      <td>2020-06-30</td>\n",
              "      <td>24671655.23</td>\n",
              "      <td>[3746372.58, 8983764.16]</td>\n",
              "      <td>[0.15184925960883736, 0.3641330132189919]</td>\n",
              "    </tr>\n",
              "    <tr>\n",
              "      <th>14</th>\n",
              "      <td>2020-07-31</td>\n",
              "      <td>25478232.23</td>\n",
              "      <td>[3470149.61, 8030091.09]</td>\n",
              "      <td>[0.13620056441411907, 0.3151745779499083]</td>\n",
              "    </tr>\n",
              "    <tr>\n",
              "      <th>15</th>\n",
              "      <td>2020-08-31</td>\n",
              "      <td>25878820.95</td>\n",
              "      <td>[3510328.95, 8374134.7]</td>\n",
              "      <td>[0.1356448563395621, 0.32359027160393106]</td>\n",
              "    </tr>\n",
              "    <tr>\n",
              "      <th>16</th>\n",
              "      <td>2020-09-30</td>\n",
              "      <td>25887161.41</td>\n",
              "      <td>[3976808.32, 7065477.24]</td>\n",
              "      <td>[0.15362087240912367, 0.2729336418194798]</td>\n",
              "    </tr>\n",
              "    <tr>\n",
              "      <th>17</th>\n",
              "      <td>2020-10-31</td>\n",
              "      <td>27699586.46</td>\n",
              "      <td>[3667678.21, 8752706.73]</td>\n",
              "      <td>[0.13240913236363167, 0.31598690986378]</td>\n",
              "    </tr>\n",
              "    <tr>\n",
              "      <th>18</th>\n",
              "      <td>2020-11-30</td>\n",
              "      <td>29872889.68</td>\n",
              "      <td>[4383982.78, 8383025.07]</td>\n",
              "      <td>[0.14675455996930525, 0.28062317237466533]</td>\n",
              "    </tr>\n",
              "    <tr>\n",
              "      <th>19</th>\n",
              "      <td>2020-12-31</td>\n",
              "      <td>30482978.52</td>\n",
              "      <td>[4373830.97, 8747661.94]</td>\n",
              "      <td>[0.1434843700437709, 0.2869687400875418]</td>\n",
              "    </tr>\n",
              "  </tbody>\n",
              "</table>\n",
              "</div>\n",
              "      <button class=\"colab-df-convert\" onclick=\"convertToInteractive('df-4eaa8910-e21d-4613-800c-cd57599ff559')\"\n",
              "              title=\"Convert this dataframe to an interactive table.\"\n",
              "              style=\"display:none;\">\n",
              "        \n",
              "  <svg xmlns=\"http://www.w3.org/2000/svg\" height=\"24px\"viewBox=\"0 0 24 24\"\n",
              "       width=\"24px\">\n",
              "    <path d=\"M0 0h24v24H0V0z\" fill=\"none\"/>\n",
              "    <path d=\"M18.56 5.44l.94 2.06.94-2.06 2.06-.94-2.06-.94-.94-2.06-.94 2.06-2.06.94zm-11 1L8.5 8.5l.94-2.06 2.06-.94-2.06-.94L8.5 2.5l-.94 2.06-2.06.94zm10 10l.94 2.06.94-2.06 2.06-.94-2.06-.94-.94-2.06-.94 2.06-2.06.94z\"/><path d=\"M17.41 7.96l-1.37-1.37c-.4-.4-.92-.59-1.43-.59-.52 0-1.04.2-1.43.59L10.3 9.45l-7.72 7.72c-.78.78-.78 2.05 0 2.83L4 21.41c.39.39.9.59 1.41.59.51 0 1.02-.2 1.41-.59l7.78-7.78 2.81-2.81c.8-.78.8-2.07 0-2.86zM5.41 20L4 18.59l7.72-7.72 1.47 1.35L5.41 20z\"/>\n",
              "  </svg>\n",
              "      </button>\n",
              "      \n",
              "  <style>\n",
              "    .colab-df-container {\n",
              "      display:flex;\n",
              "      flex-wrap:wrap;\n",
              "      gap: 12px;\n",
              "    }\n",
              "\n",
              "    .colab-df-convert {\n",
              "      background-color: #E8F0FE;\n",
              "      border: none;\n",
              "      border-radius: 50%;\n",
              "      cursor: pointer;\n",
              "      display: none;\n",
              "      fill: #1967D2;\n",
              "      height: 32px;\n",
              "      padding: 0 0 0 0;\n",
              "      width: 32px;\n",
              "    }\n",
              "\n",
              "    .colab-df-convert:hover {\n",
              "      background-color: #E2EBFA;\n",
              "      box-shadow: 0px 1px 2px rgba(60, 64, 67, 0.3), 0px 1px 3px 1px rgba(60, 64, 67, 0.15);\n",
              "      fill: #174EA6;\n",
              "    }\n",
              "\n",
              "    [theme=dark] .colab-df-convert {\n",
              "      background-color: #3B4455;\n",
              "      fill: #D2E3FC;\n",
              "    }\n",
              "\n",
              "    [theme=dark] .colab-df-convert:hover {\n",
              "      background-color: #434B5C;\n",
              "      box-shadow: 0px 1px 3px 1px rgba(0, 0, 0, 0.15);\n",
              "      filter: drop-shadow(0px 1px 2px rgba(0, 0, 0, 0.3));\n",
              "      fill: #FFFFFF;\n",
              "    }\n",
              "  </style>\n",
              "\n",
              "      <script>\n",
              "        const buttonEl =\n",
              "          document.querySelector('#df-4eaa8910-e21d-4613-800c-cd57599ff559 button.colab-df-convert');\n",
              "        buttonEl.style.display =\n",
              "          google.colab.kernel.accessAllowed ? 'block' : 'none';\n",
              "\n",
              "        async function convertToInteractive(key) {\n",
              "          const element = document.querySelector('#df-4eaa8910-e21d-4613-800c-cd57599ff559');\n",
              "          const dataTable =\n",
              "            await google.colab.kernel.invokeFunction('convertToInteractive',\n",
              "                                                     [key], {});\n",
              "          if (!dataTable) return;\n",
              "\n",
              "          const docLinkHtml = 'Like what you see? Visit the ' +\n",
              "            '<a target=\"_blank\" href=https://colab.research.google.com/notebooks/data_table.ipynb>data table notebook</a>'\n",
              "            + ' to learn more about interactive tables.';\n",
              "          element.innerHTML = '';\n",
              "          dataTable['output_type'] = 'display_data';\n",
              "          await google.colab.output.renderOutput(dataTable, element);\n",
              "          const docLink = document.createElement('div');\n",
              "          docLink.innerHTML = docLinkHtml;\n",
              "          element.appendChild(docLink);\n",
              "        }\n",
              "      </script>\n",
              "    </div>\n",
              "  </div>\n",
              "  "
            ]
          },
          "metadata": {},
          "execution_count": 265
        }
      ]
    },
    {
      "cell_type": "code",
      "source": [
        "def expected_repayment_part(p):\n",
        "  \n",
        "  for i in np.arange(3, 31):\n",
        "        \n",
        "    calc1 = sum(p[:-1])\n",
        "    \n",
        "    calc2 = 1 - calc1\n",
        "    \n",
        "    calc3 = (i - 1) / 30\n",
        "    \n",
        "    calc4 = 1 - calc2\n",
        "    \n",
        "    calc5 = 1 + (calc4 * calc2)\n",
        "    \n",
        "    calc6 = p[1] * np.log(calc5)\n",
        "    \n",
        "    pi = max(calc6, 0)\n",
        "    \n",
        "    # pi = 99.79 * pi\n",
        "\n",
        "    p.append(pi)\n",
        "\n",
        "    # i += 1\n",
        "  \n",
        "  return p\n",
        "\t"
      ],
      "metadata": {
        "id": "MAZ51L6k4qTL"
      },
      "execution_count": 266,
      "outputs": []
    },
    {
      "cell_type": "code",
      "source": [
        "## This is a version of the repayment formula that is equipped with print functions for debugging purposes. I leave it here for now.\n",
        "\n",
        "# def expected_repayment_part(p):\n",
        "  \n",
        "#   for i in np.arange(3, 30):\n",
        "    \n",
        "#     print('i', i)\n",
        "    \n",
        "#     calc1 = sum(p[:-1])\n",
        "#     print('calc1', calc1)\n",
        "\n",
        "#     calc2 = 1 - calc1\n",
        "#     print('calc2', calc2)\n",
        "\n",
        "#     calc3 = (i - 1) / 30\n",
        "#     print('calc3', calc3)\n",
        "\n",
        "#     calc4 = 1 - calc2\n",
        "#     print('calc4', calc4)\n",
        "\n",
        "#     calc5 = 1 + (calc4 * calc2)\n",
        "#     print('calc5', calc5)\n",
        "\n",
        "#     calc6 = p[1] * np.log(calc5)\n",
        "#     print('calc6', calc6)\n",
        "\n",
        "#     pi = max(calc6, 0)\n",
        "#     print('pi', pi)\n",
        "\n",
        "#     # pi = 99.79 * pi\n",
        "\n",
        "#     p.append(pi)\n",
        "\n",
        "#     i += 1\n",
        "  \n",
        "#   return p\n",
        "\t"
      ],
      "metadata": {
        "id": "KvN8MfY1VhZU"
      },
      "execution_count": 267,
      "outputs": []
    },
    {
      "cell_type": "code",
      "source": [
        "# p = [0.14403689398989936, 0.33259654186847215]\n",
        "# expected_repayment_part(p)"
      ],
      "metadata": {
        "id": "Ngj-Jv1mU5xf"
      },
      "execution_count": 268,
      "outputs": []
    },
    {
      "cell_type": "code",
      "source": [
        "df_agg['expected_repayment_part'] = df_agg['repayment_part'].apply(expected_repayment_part)"
      ],
      "metadata": {
        "id": "B6Avv4B2_d2W"
      },
      "execution_count": 269,
      "outputs": []
    },
    {
      "cell_type": "code",
      "source": [
        "df_agg['total_expected_repayment_part'] = df_agg['expected_repayment_part'].apply(sum)"
      ],
      "metadata": {
        "id": "Z1lKglMg62_P"
      },
      "execution_count": 279,
      "outputs": []
    },
    {
      "cell_type": "code",
      "source": [
        "df_agg['total_expected_repayment'] = df_agg['total_expected_repayment_part'] * df_agg['origination_amount']"
      ],
      "metadata": {
        "id": "kotBO8nM71PH"
      },
      "execution_count": 281,
      "outputs": []
    },
    {
      "cell_type": "code",
      "source": [
        "df_agg['total_expected_repayment_after_discount'] = df_agg['total_expected_repayment'] * 97.5 * 30 / 12"
      ],
      "metadata": {
        "id": "aPlMziDw8MkB"
      },
      "execution_count": 283,
      "outputs": []
    },
    {
      "cell_type": "code",
      "source": [
        "df_agg['margin'] = df_agg['total_expected_repayment_after_discount'] - df_agg['origination_amount']"
      ],
      "metadata": {
        "id": "t26ZQ2S89WJ9"
      },
      "execution_count": 285,
      "outputs": []
    },
    {
      "cell_type": "code",
      "source": [
        "pd.set_option('display.float_format', lambda x: '%.5f' % x)\n",
        "df_result = df_agg[['origination_date', 'origination_amount', 'total_expected_repayment_part', 'total_expected_repayment_after_discount', 'margin']].round(2)\n",
        "# df_result.apply(lambda x: '%.5f % x, axis=1')\n",
        "df_result.head(3)"
      ],
      "metadata": {
        "colab": {
          "base_uri": "https://localhost:8080/",
          "height": 143
        },
        "id": "3wKQHI2p9A_M",
        "outputId": "9a7a4570-774e-4872-a6e7-0d7bb21d535f"
      },
      "execution_count": 299,
      "outputs": [
        {
          "output_type": "execute_result",
          "data": {
            "text/plain": [
              "  origination_date  origination_amount  total_expected_repayment_part  \\\n",
              "0       2019-05-31      10018746.17000                        1.00000   \n",
              "1       2019-06-30      10868379.04000                        1.00000   \n",
              "2       2019-07-31      10733932.61000                        1.00000   \n",
              "\n",
              "   total_expected_repayment_after_discount           margin  \n",
              "0                         2447344436.65000 2437325690.48000  \n",
              "1                         2649312267.35000 2638443888.31000  \n",
              "2                         2616498791.71000 2605764859.10000  "
            ],
            "text/html": [
              "\n",
              "  <div id=\"df-69e93283-81c0-4b71-8fc2-025bbd6251fd\">\n",
              "    <div class=\"colab-df-container\">\n",
              "      <div>\n",
              "<style scoped>\n",
              "    .dataframe tbody tr th:only-of-type {\n",
              "        vertical-align: middle;\n",
              "    }\n",
              "\n",
              "    .dataframe tbody tr th {\n",
              "        vertical-align: top;\n",
              "    }\n",
              "\n",
              "    .dataframe thead th {\n",
              "        text-align: right;\n",
              "    }\n",
              "</style>\n",
              "<table border=\"1\" class=\"dataframe\">\n",
              "  <thead>\n",
              "    <tr style=\"text-align: right;\">\n",
              "      <th></th>\n",
              "      <th>origination_date</th>\n",
              "      <th>origination_amount</th>\n",
              "      <th>total_expected_repayment_part</th>\n",
              "      <th>total_expected_repayment_after_discount</th>\n",
              "      <th>margin</th>\n",
              "    </tr>\n",
              "  </thead>\n",
              "  <tbody>\n",
              "    <tr>\n",
              "      <th>0</th>\n",
              "      <td>2019-05-31</td>\n",
              "      <td>10018746.17000</td>\n",
              "      <td>1.00000</td>\n",
              "      <td>2447344436.65000</td>\n",
              "      <td>2437325690.48000</td>\n",
              "    </tr>\n",
              "    <tr>\n",
              "      <th>1</th>\n",
              "      <td>2019-06-30</td>\n",
              "      <td>10868379.04000</td>\n",
              "      <td>1.00000</td>\n",
              "      <td>2649312267.35000</td>\n",
              "      <td>2638443888.31000</td>\n",
              "    </tr>\n",
              "    <tr>\n",
              "      <th>2</th>\n",
              "      <td>2019-07-31</td>\n",
              "      <td>10733932.61000</td>\n",
              "      <td>1.00000</td>\n",
              "      <td>2616498791.71000</td>\n",
              "      <td>2605764859.10000</td>\n",
              "    </tr>\n",
              "  </tbody>\n",
              "</table>\n",
              "</div>\n",
              "      <button class=\"colab-df-convert\" onclick=\"convertToInteractive('df-69e93283-81c0-4b71-8fc2-025bbd6251fd')\"\n",
              "              title=\"Convert this dataframe to an interactive table.\"\n",
              "              style=\"display:none;\">\n",
              "        \n",
              "  <svg xmlns=\"http://www.w3.org/2000/svg\" height=\"24px\"viewBox=\"0 0 24 24\"\n",
              "       width=\"24px\">\n",
              "    <path d=\"M0 0h24v24H0V0z\" fill=\"none\"/>\n",
              "    <path d=\"M18.56 5.44l.94 2.06.94-2.06 2.06-.94-2.06-.94-.94-2.06-.94 2.06-2.06.94zm-11 1L8.5 8.5l.94-2.06 2.06-.94-2.06-.94L8.5 2.5l-.94 2.06-2.06.94zm10 10l.94 2.06.94-2.06 2.06-.94-2.06-.94-.94-2.06-.94 2.06-2.06.94z\"/><path d=\"M17.41 7.96l-1.37-1.37c-.4-.4-.92-.59-1.43-.59-.52 0-1.04.2-1.43.59L10.3 9.45l-7.72 7.72c-.78.78-.78 2.05 0 2.83L4 21.41c.39.39.9.59 1.41.59.51 0 1.02-.2 1.41-.59l7.78-7.78 2.81-2.81c.8-.78.8-2.07 0-2.86zM5.41 20L4 18.59l7.72-7.72 1.47 1.35L5.41 20z\"/>\n",
              "  </svg>\n",
              "      </button>\n",
              "      \n",
              "  <style>\n",
              "    .colab-df-container {\n",
              "      display:flex;\n",
              "      flex-wrap:wrap;\n",
              "      gap: 12px;\n",
              "    }\n",
              "\n",
              "    .colab-df-convert {\n",
              "      background-color: #E8F0FE;\n",
              "      border: none;\n",
              "      border-radius: 50%;\n",
              "      cursor: pointer;\n",
              "      display: none;\n",
              "      fill: #1967D2;\n",
              "      height: 32px;\n",
              "      padding: 0 0 0 0;\n",
              "      width: 32px;\n",
              "    }\n",
              "\n",
              "    .colab-df-convert:hover {\n",
              "      background-color: #E2EBFA;\n",
              "      box-shadow: 0px 1px 2px rgba(60, 64, 67, 0.3), 0px 1px 3px 1px rgba(60, 64, 67, 0.15);\n",
              "      fill: #174EA6;\n",
              "    }\n",
              "\n",
              "    [theme=dark] .colab-df-convert {\n",
              "      background-color: #3B4455;\n",
              "      fill: #D2E3FC;\n",
              "    }\n",
              "\n",
              "    [theme=dark] .colab-df-convert:hover {\n",
              "      background-color: #434B5C;\n",
              "      box-shadow: 0px 1px 3px 1px rgba(0, 0, 0, 0.15);\n",
              "      filter: drop-shadow(0px 1px 2px rgba(0, 0, 0, 0.3));\n",
              "      fill: #FFFFFF;\n",
              "    }\n",
              "  </style>\n",
              "\n",
              "      <script>\n",
              "        const buttonEl =\n",
              "          document.querySelector('#df-69e93283-81c0-4b71-8fc2-025bbd6251fd button.colab-df-convert');\n",
              "        buttonEl.style.display =\n",
              "          google.colab.kernel.accessAllowed ? 'block' : 'none';\n",
              "\n",
              "        async function convertToInteractive(key) {\n",
              "          const element = document.querySelector('#df-69e93283-81c0-4b71-8fc2-025bbd6251fd');\n",
              "          const dataTable =\n",
              "            await google.colab.kernel.invokeFunction('convertToInteractive',\n",
              "                                                     [key], {});\n",
              "          if (!dataTable) return;\n",
              "\n",
              "          const docLinkHtml = 'Like what you see? Visit the ' +\n",
              "            '<a target=\"_blank\" href=https://colab.research.google.com/notebooks/data_table.ipynb>data table notebook</a>'\n",
              "            + ' to learn more about interactive tables.';\n",
              "          element.innerHTML = '';\n",
              "          dataTable['output_type'] = 'display_data';\n",
              "          await google.colab.output.renderOutput(dataTable, element);\n",
              "          const docLink = document.createElement('div');\n",
              "          docLink.innerHTML = docLinkHtml;\n",
              "          element.appendChild(docLink);\n",
              "        }\n",
              "      </script>\n",
              "    </div>\n",
              "  </div>\n",
              "  "
            ]
          },
          "metadata": {},
          "execution_count": 299
        }
      ]
    },
    {
      "cell_type": "markdown",
      "source": [
        "Sanity check."
      ],
      "metadata": {
        "id": "zqpUpV5VAHt2"
      }
    },
    {
      "cell_type": "code",
      "source": [
        "2447344436.65 - 10018746.17\t"
      ],
      "metadata": {
        "colab": {
          "base_uri": "https://localhost:8080/"
        },
        "id": "A6Xo7lDU_8Yd",
        "outputId": "00e32859-a796-4cf7-a45e-ee1ed3dbac11"
      },
      "execution_count": 297,
      "outputs": [
        {
          "output_type": "execute_result",
          "data": {
            "text/plain": [
              "2437325690.48"
            ]
          },
          "metadata": {},
          "execution_count": 297
        }
      ]
    }
  ]
}